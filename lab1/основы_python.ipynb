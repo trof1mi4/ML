{
  "cells": [
    {
      "cell_type": "markdown",
      "metadata": {
        "id": "M-DGa20PaHnu"
      },
      "source": [
        "#Задача 1\n",
        "Написать функцию на вход которой подается строка, состоящая из латинских букв.\n",
        "Функция должна вернуть количество гласных букв (a, e, i, o, u) в этой строке. Написать тесты для кода"
      ]
    },
    {
      "cell_type": "code",
      "execution_count": 35,
      "metadata": {
        "id": "XvX8X_JJ6PCb"
      },
      "outputs": [
        {
          "name": "stdout",
          "output_type": "stream",
          "text": [
            "Все тесты пройдены!\n"
          ]
        }
      ],
      "source": [
        "def count_vowels(text):\n",
        "  vowels = \"aeiou\"\n",
        "  count = 0\n",
        "  for char in text.lower():\n",
        "    if char in vowels:\n",
        "      count += 1\n",
        "  return count\n",
        "\n",
        "assert count_vowels(\"\") == 0\n",
        "assert count_vowels(\"brt\") == 0\n",
        "assert count_vowels(\"aeiou\") == 5\n",
        "assert count_vowels(\"AeIoU\") == 5\n",
        "assert count_vowels(\"hello world\") == 3\n",
        "assert count_vowels(\"hello123world\") == 3\n",
        "assert count_vowels(\"hello!@#world\") == 3\n",
        "\n",
        "print(\"Все тесты пройдены!\")\n"
      ]
    },
    {
      "cell_type": "markdown",
      "metadata": {
        "id": "t2ClV_Y0bbr6"
      },
      "source": [
        "# Задача 2\n",
        "Написать функцию на вход, которой подается строка. Функция должна вернуть true, если\n",
        "каждый символ в строке встречается только 1 раз, иначе должна вернуть false. Написать тесты для кода"
      ]
    },
    {
      "cell_type": "code",
      "execution_count": 36,
      "metadata": {
        "id": "FppbECao6VIz"
      },
      "outputs": [
        {
          "name": "stdout",
          "output_type": "stream",
          "text": [
            "Все тесты пройдены!\n"
          ]
        }
      ],
      "source": [
        "def is_unique(text):\n",
        "  seen = set()\n",
        "  for char in text:\n",
        "    if char in seen:\n",
        "      return False\n",
        "    seen.add(char)\n",
        "  return True\n",
        "\n",
        "\n",
        "assert is_unique(\"\") == True\n",
        "assert is_unique(\"abc\") == True\n",
        "assert is_unique(\"abac\") == False\n",
        "assert is_unique(\"aabc\") == False\n",
        "assert is_unique(\"nurses run\") == False \n",
        "assert is_unique(\"abcdefg\") == True\n",
        "assert is_unique(\"aaaaaaaaaa\") == False\n",
        "\n",
        "print(\"Все тесты пройдены!\")\n"
      ]
    },
    {
      "cell_type": "markdown",
      "metadata": {
        "id": "udRiIK1cdt6E"
      },
      "source": [
        "# Задача 3\n",
        "Написать функцию, которая принимает положительное число и возвращает количество\n",
        "бит равных 1 в этом числе. Написать тесты для кода"
      ]
    },
    {
      "cell_type": "code",
      "execution_count": 37,
      "metadata": {
        "id": "6tkfDJRz6dp_"
      },
      "outputs": [
        {
          "name": "stdout",
          "output_type": "stream",
          "text": [
            "Все тесты пройдены!\n"
          ]
        }
      ],
      "source": [
        "def count_set_bits(n):\n",
        "  count = 0\n",
        "  while n > 0:\n",
        "    n &= (n - 1)  \n",
        "    count += 1\n",
        "  return count\n",
        "\n",
        "assert count_set_bits(0) == 0\n",
        "assert count_set_bits(1) == 1\n",
        "assert count_set_bits(2) == 1\n",
        "assert count_set_bits(3) == 2\n",
        "assert count_set_bits(7) == 3\n",
        "assert count_set_bits(8) == 1\n",
        "assert count_set_bits(9) == 2\n",
        "assert count_set_bits(15) == 4\n",
        "assert count_set_bits(31) == 5\n",
        "assert count_set_bits(63) == 6\n",
        "assert count_set_bits(127) == 7\n",
        "assert count_set_bits(255) == 8\n",
        "\n",
        "print(\"Все тесты пройдены!\")\n"
      ]
    },
    {
      "cell_type": "markdown",
      "metadata": {
        "id": "26dDUz-Ae17N"
      },
      "source": [
        "# Задача 4\n",
        "Написать функцию, которая принимает положительное число. Функция должна вернуть то,\n",
        "сколько раз необходимо перемножать цифры числа или результат перемножения, чтобы\n",
        "получилось число состоящее из одной цифры.\n",
        "Например, для входного числа:\n",
        "· 39 функция должна вернуть 3, так как 3*9=27 => 2*7=14 => 1*4=4\n",
        "· 4 функция должна вернуть 0, так как число уже состоит из одной цифры\n",
        "· 999 функция должна вернуть 4, так как 9*9*9=729 => 7*2*9=126 => 1*2*6=12 =>\n",
        "1*2=2. Написать тесты для кода"
      ]
    },
    {
      "cell_type": "code",
      "execution_count": null,
      "metadata": {
        "id": "BH1A_Mgi6i4G"
      },
      "outputs": [
        {
          "name": "stdout",
          "output_type": "stream",
          "text": [
            "Все тесты пройдены!\n"
          ]
        }
      ],
      "source": [
        "def magic(n):\n",
        "  count = 0\n",
        "  while n >= 10:\n",
        "    product = 1\n",
        "    for digit in str(n):\n",
        "      product *= int(digit)\n",
        "    n = product\n",
        "    count += 1\n",
        "  return count\n",
        "\n",
        "\n",
        "assert magic(39) == 3\n",
        "assert magic(4) == 0\n",
        "assert magic(999) == 4\n",
        "assert magic(10) == 1\n",
        "assert magic(25) == 2\n",
        "assert magic(123456789) == 2\n",
        "assert magic(1111) == 1\n",
        "\n",
        "print(\"Все тесты пройдены!\")"
      ]
    },
    {
      "cell_type": "markdown",
      "metadata": {
        "id": "0nS-kIa8g8vd"
      },
      "source": [
        "# Задача 5\n",
        "Написать функцию, которая принимает два целочисленных вектора одинаковой длины и\n",
        "возвращает среднеквадратическое отклонение двух векторов. Написать тесты для кода"
      ]
    },
    {
      "cell_type": "code",
      "execution_count": null,
      "metadata": {
        "id": "8iphx4LM6xbx"
      },
      "outputs": [
        {
          "name": "stdout",
          "output_type": "stream",
          "text": [
            "Все тесты пройдены!\n"
          ]
        }
      ],
      "source": [
        "import math\n",
        "\n",
        "\n",
        "def mean_squared_error(vector1, vector2):\n",
        "  if len(vector1) != len(vector2):\n",
        "    return (\"Векторы должны иметь одинаковую длину\")\n",
        "\n",
        "  mse = 0\n",
        "  for i in range(len(vector1)):\n",
        "    mse += (vector1[i] - vector2[i]) ** 2\n",
        "\n",
        "  return mse / len(vector1)\n",
        "\n",
        "\n",
        "assert mean_squared_error([1, 2, 3], [1, 2, 3]) == 0\n",
        "assert mean_squared_error([1, 2, 3], [4, 5, 6]) == 9\n",
        "assert mean_squared_error([1, 2, 3], [2, 3, 4]) == 1\n",
        "assert mean_squared_error([0, 0, 0], [1, 1, 1]) == 1\n",
        "assert mean_squared_error([2, 4, 6], [1, 2, 3]) == 4.666666666666667\n",
        "assert mean_squared_error([1,2],[1,2,3]) == \"Векторы должны иметь одинаковую длину\"\n",
        "\n",
        "\n",
        "print(\"Все тесты пройдены!\")"
      ]
    },
    {
      "cell_type": "markdown",
      "metadata": {
        "id": "vpIPKL439zkw"
      },
      "source": [
        "# Задача 6\n",
        "Написать функцию, принимающая целое положительное число. Функция должна вернуть\n",
        "строку вида “(n1**p1)(n2**p2)…(nk**pk)” представляющая разложение числа на простые\n",
        "множители (если pi == 1, то выводить только ni).\n",
        "Например, для числа 86240 функция должна вернуть “(2**5)(5)(7**2)(11)”. Написать тесты для кода"
      ]
    },
    {
      "cell_type": "code",
      "execution_count": null,
      "metadata": {
        "id": "pFebmcZk94Jw"
      },
      "outputs": [
        {
          "name": "stdout",
          "output_type": "stream",
          "text": [
            "Все тесты пройдены!\n"
          ]
        }
      ],
      "source": [
        "def prime_factorization(n):\n",
        "    factors = {}\n",
        "    d = 2\n",
        "    while d * d <= n:\n",
        "        while n % d == 0:\n",
        "            factors[d] = factors.get(d, 0) + 1\n",
        "            n //= d\n",
        "        d += 1\n",
        "    if n > 1:\n",
        "        factors[n] = factors.get(n, 0) + 1\n",
        "\n",
        "    result = \"\"\n",
        "    for factor, power in sorted(factors.items()):\n",
        "        if power == 1:\n",
        "            result += f\"({factor})\"\n",
        "        else:\n",
        "            result += f\"({factor}**{power})\"\n",
        "    return result\n",
        "\n",
        "assert prime_factorization(86240) == \"(2**5)(5)(7**2)(11)\"\n",
        "assert prime_factorization(12) == \"(2**2)(3)\"\n",
        "assert prime_factorization(7) == \"(7)\"\n",
        "assert prime_factorization(2) == \"(2)\"\n",
        "assert prime_factorization(3) == \"(3)\"\n",
        "assert prime_factorization(5) == \"(5)\"\n",
        "assert prime_factorization(100) == \"(2**2)(5**2)\"\n",
        "assert prime_factorization(999) == \"(3**3)(37)\"\n",
        "assert prime_factorization(256) == \"(2**8)\"\n",
        "\n",
        "\n",
        "print(\"Все тесты пройдены!\")"
      ]
    },
    {
      "cell_type": "markdown",
      "metadata": {
        "id": "ps2s0BudX7A2"
      },
      "source": [
        "# Задача 7\n",
        "Написать функцию, принимающая целое число n, задающее количество кубиков. Функция\n",
        "должна определить, можно ли из данного кол-ва кубиков построить пирамиду, то есть\n",
        "можно ли представить число n как 1^2+2^2+3^2+…+k^2. Если можно, то функция должна\n",
        "вернуть k, иначе строку “It is impossible”. Написать тесты для кода"
      ]
    },
    {
      "cell_type": "code",
      "execution_count": null,
      "metadata": {
        "id": "3YPjEXxhX_YT"
      },
      "outputs": [],
      "source": [
        "\n",
        "\n"
      ]
    },
    {
      "cell_type": "markdown",
      "metadata": {
        "id": "KeKgmIdAQMEJ"
      },
      "source": [
        "# Задача 8\n",
        "Функция принимает на вход положительное число и определяет является ли оно сбалансированным, т.е. сумма цифр до средних равна сумме цифр после. Средними в случае нечетного числа цифр считать одну цифру, в случае четного - две средних. Написать тесты для кода"
      ]
    },
    {
      "cell_type": "code",
      "execution_count": null,
      "metadata": {
        "id": "gMAAqtqlQrZt"
      },
      "outputs": [],
      "source": []
    }
  ],
  "metadata": {
    "colab": {
      "provenance": []
    },
    "kernelspec": {
      "display_name": "Python 3",
      "name": "python3"
    },
    "language_info": {
      "codemirror_mode": {
        "name": "ipython",
        "version": 3
      },
      "file_extension": ".py",
      "mimetype": "text/x-python",
      "name": "python",
      "nbconvert_exporter": "python",
      "pygments_lexer": "ipython3",
      "version": "3.12.2"
    }
  },
  "nbformat": 4,
  "nbformat_minor": 0
}
