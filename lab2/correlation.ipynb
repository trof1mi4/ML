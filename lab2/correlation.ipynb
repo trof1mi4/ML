{
  "cells": [
    {
      "cell_type": "markdown",
      "metadata": {
        "id": "IpitCMkBxThP"
      },
      "source": [
        "# Лабораторная работа - Корреляционный анализ в Python\n"
      ]
    },
    {
      "cell_type": "markdown",
      "metadata": {
        "id": "kE4HHOc_xThV"
      },
      "source": [
        "### Цели\n",
        "\n",
        "* Часть 1: Набор данных\n",
        "* Часть 2: Диаграммы рассеяния и корреляционные переменные\n",
        "* Часть 3: Расчёт корреляции с Python\n",
        "* Часть 4: Визуализация"
      ]
    },
    {
      "cell_type": "markdown",
      "metadata": {
        "id": "8A_CPvV-xThW"
      },
      "source": [
        "### История / Cценарий\n",
        "\n",
        "Корреляция является важной статистической зависимостью, которая может указывать, связаны ли линейные значения переменных.\n",
        "\n",
        "В этой лабораторной работе вы узнаете, как использовать Python для расчета корреляции. В Части 1 Вы подготовите набор данных. В Части 2 Вы узнаете, как определить, являются ли переменные в данном наборе данных взаимозависимыми. Наконец, в Части 3, Вы будете использовать Python для вычисления корреляции между двумя наборами переменных."
      ]
    },
    {
      "cell_type": "markdown",
      "metadata": {
        "id": "ZkcEivEjxThW"
      },
      "source": [
        "### Необходимо:\n",
        "* Библиотеки Python: pandas, numpy, matplotlib, seaborn\n",
        "* Файл данных: brainsize.txt"
      ]
    },
    {
      "cell_type": "markdown",
      "metadata": {
        "id": "GjMD1rpxxThW"
      },
      "source": [
        "## Часть 1: Набор данных"
      ]
    },
    {
      "cell_type": "markdown",
      "metadata": {
        "id": "sU9qMsAaxThX"
      },
      "source": [
        "Вы будете использовать набор данных, который содержит выборку 40 студентов правшей с вводного курса по Психологии из университета Southwestern. Испытуемые прошли четыре субтеста (Vocabulary, Similarities, Block Design, и Picture Completion) для расчёта шкалы интеллекта взрослых по Векслеру. Исследователи использовали магнитно-резонансную томографию (МРТ) для определения размера мозга у субъектов. Также включены сведения о гендерных показателях и размере тела (рост и вес). Исследователи скрыли вес двух испытуемых и высоту одного из них по причинам конфиденциальности.\n",
        "Для набора данных были применены две простые модификации:\n",
        "\n",
        "1. Заменены вопросительные знаки, используемые для представления скрытых данных, описанных выше, строкой «NaN». Замена была выполнена, потому что Pandas не обрабатывает вопросительные знаки правильно.\n",
        "\n",
        "2. Заменены все символы табуляции запятыми, преобразуя набор данных в набор данных CSV.\n",
        "\n",
        "Готовый набор данных сохранён как `brainsize.txt`."
      ]
    },
    {
      "cell_type": "markdown",
      "metadata": {
        "id": "6eKInty5xThX"
      },
      "source": [
        "#### Шаг 1: Загрузка набора данных из файла.\n",
        "\n",
        "До того, как набор данных можно использовать, он должен быть загружен в память.\n",
        "\n",
        "В приведенном ниже коде первая строка импортирует модули `pandas` и определяет `pd` как дескриптор, который ссылается на один из модулей.\n",
        "\n",
        "Вторая строка загружает CSV-файл набора данных в переменную с именем `brainFile`.\n",
        "\n",
        "Третья строка использует метод `read_csv()` из библиотеки `pandas`, чтобы преобразовать набор данных CSV, хранящийся в `brainFile` в кадр данных. Затем кадр данных хранится в переменной `brainFrame`.\n",
        "\n",
        "Запустите ячейку ниже, чтобы выполнить описанные функции."
      ]
    },
    {
      "cell_type": "code",
      "execution_count": 2,
      "metadata": {
        "id": "xXOTfGjfxThY"
      },
      "outputs": [],
      "source": [
        "import pandas as pd\n",
        "brainFrame = pd.read_csv('brainsize.txt', delimiter='\\t')"
      ]
    },
    {
      "cell_type": "markdown",
      "metadata": {
        "id": "y0xGLbkxxThZ"
      },
      "source": [
        "#### Шаг 2. Проверка кадра данных.\n",
        "\n",
        "Чтобы убедиться, что кадр данных правильно загружен и создан, используйте метод `head()`. Метод `head()` отображает первые пять записей в кадре данных."
      ]
    },
    {
      "cell_type": "code",
      "execution_count": 6,
      "metadata": {
        "colab": {
          "base_uri": "https://localhost:8080/",
          "height": 206
        },
        "id": "XHaARrUkxThb",
        "outputId": "b6ebb680-4189-4c04-9079-ff10c9165ef9"
      },
      "outputs": [
        {
          "data": {
            "application/vnd.google.colaboratory.intrinsic+json": {
              "summary": "{\n  \"name\": \"brainFrame\",\n  \"rows\": 40,\n  \"fields\": [\n    {\n      \"column\": \"Gender\",\n      \"properties\": {\n        \"dtype\": \"category\",\n        \"num_unique_values\": 2,\n        \"samples\": [\n          \"Male\",\n          \"Female\"\n        ],\n        \"semantic_type\": \"\",\n        \"description\": \"\"\n      }\n    },\n    {\n      \"column\": \"FSIQ\",\n      \"properties\": {\n        \"dtype\": \"number\",\n        \"std\": 24,\n        \"min\": 77,\n        \"max\": 144,\n        \"num_unique_values\": 26,\n        \"samples\": [\n          132,\n          97\n        ],\n        \"semantic_type\": \"\",\n        \"description\": \"\"\n      }\n    },\n    {\n      \"column\": \"VIQ\",\n      \"properties\": {\n        \"dtype\": \"number\",\n        \"std\": 23,\n        \"min\": 71,\n        \"max\": 150,\n        \"num_unique_values\": 20,\n        \"samples\": [\n          132,\n          86\n        ],\n        \"semantic_type\": \"\",\n        \"description\": \"\"\n      }\n    },\n    {\n      \"column\": \"PIQ\",\n      \"properties\": {\n        \"dtype\": \"number\",\n        \"std\": 22,\n        \"min\": 72,\n        \"max\": 150,\n        \"num_unique_values\": 21,\n        \"samples\": [\n          124,\n          81\n        ],\n        \"semantic_type\": \"\",\n        \"description\": \"\"\n      }\n    },\n    {\n      \"column\": \"Weight\",\n      \"properties\": {\n        \"dtype\": \"number\",\n        \"std\": 23.478509286005146,\n        \"min\": 106.0,\n        \"max\": 192.0,\n        \"num_unique_values\": 32,\n        \"samples\": [\n          139.0,\n          186.0\n        ],\n        \"semantic_type\": \"\",\n        \"description\": \"\"\n      }\n    },\n    {\n      \"column\": \"Height\",\n      \"properties\": {\n        \"dtype\": \"number\",\n        \"std\": 3.99464891736551,\n        \"min\": 62.0,\n        \"max\": 77.0,\n        \"num_unique_values\": 23,\n        \"samples\": [\n          63.0,\n          70.5\n        ],\n        \"semantic_type\": \"\",\n        \"description\": \"\"\n      }\n    },\n    {\n      \"column\": \"MRI_Count\",\n      \"properties\": {\n        \"dtype\": \"number\",\n        \"std\": 72282,\n        \"min\": 790619,\n        \"max\": 1079549,\n        \"num_unique_values\": 40,\n        \"samples\": [\n          889083,\n          852244\n        ],\n        \"semantic_type\": \"\",\n        \"description\": \"\"\n      }\n    }\n  ]\n}",
              "type": "dataframe",
              "variable_name": "brainFrame"
            },
            "text/html": [
              "\n",
              "  <div id=\"df-4e595dcf-5cf8-4247-9de2-04c0b5cc63bf\" class=\"colab-df-container\">\n",
              "    <div>\n",
              "<style scoped>\n",
              "    .dataframe tbody tr th:only-of-type {\n",
              "        vertical-align: middle;\n",
              "    }\n",
              "\n",
              "    .dataframe tbody tr th {\n",
              "        vertical-align: top;\n",
              "    }\n",
              "\n",
              "    .dataframe thead th {\n",
              "        text-align: right;\n",
              "    }\n",
              "</style>\n",
              "<table border=\"1\" class=\"dataframe\">\n",
              "  <thead>\n",
              "    <tr style=\"text-align: right;\">\n",
              "      <th></th>\n",
              "      <th>Gender</th>\n",
              "      <th>FSIQ</th>\n",
              "      <th>VIQ</th>\n",
              "      <th>PIQ</th>\n",
              "      <th>Weight</th>\n",
              "      <th>Height</th>\n",
              "      <th>MRI_Count</th>\n",
              "    </tr>\n",
              "  </thead>\n",
              "  <tbody>\n",
              "    <tr>\n",
              "      <th>0</th>\n",
              "      <td>Female</td>\n",
              "      <td>133</td>\n",
              "      <td>132</td>\n",
              "      <td>124</td>\n",
              "      <td>118.0</td>\n",
              "      <td>64.5</td>\n",
              "      <td>816932</td>\n",
              "    </tr>\n",
              "    <tr>\n",
              "      <th>1</th>\n",
              "      <td>Male</td>\n",
              "      <td>140</td>\n",
              "      <td>150</td>\n",
              "      <td>124</td>\n",
              "      <td>NaN</td>\n",
              "      <td>72.5</td>\n",
              "      <td>1001121</td>\n",
              "    </tr>\n",
              "    <tr>\n",
              "      <th>2</th>\n",
              "      <td>Male</td>\n",
              "      <td>139</td>\n",
              "      <td>123</td>\n",
              "      <td>150</td>\n",
              "      <td>143.0</td>\n",
              "      <td>73.3</td>\n",
              "      <td>1038437</td>\n",
              "    </tr>\n",
              "    <tr>\n",
              "      <th>3</th>\n",
              "      <td>Male</td>\n",
              "      <td>133</td>\n",
              "      <td>129</td>\n",
              "      <td>128</td>\n",
              "      <td>172.0</td>\n",
              "      <td>68.8</td>\n",
              "      <td>965353</td>\n",
              "    </tr>\n",
              "    <tr>\n",
              "      <th>4</th>\n",
              "      <td>Female</td>\n",
              "      <td>137</td>\n",
              "      <td>132</td>\n",
              "      <td>134</td>\n",
              "      <td>147.0</td>\n",
              "      <td>65.0</td>\n",
              "      <td>951545</td>\n",
              "    </tr>\n",
              "  </tbody>\n",
              "</table>\n",
              "</div>\n",
              "    <div class=\"colab-df-buttons\">\n",
              "\n",
              "  <div class=\"colab-df-container\">\n",
              "    <button class=\"colab-df-convert\" onclick=\"convertToInteractive('df-4e595dcf-5cf8-4247-9de2-04c0b5cc63bf')\"\n",
              "            title=\"Convert this dataframe to an interactive table.\"\n",
              "            style=\"display:none;\">\n",
              "\n",
              "  <svg xmlns=\"http://www.w3.org/2000/svg\" height=\"24px\" viewBox=\"0 -960 960 960\">\n",
              "    <path d=\"M120-120v-720h720v720H120Zm60-500h600v-160H180v160Zm220 220h160v-160H400v160Zm0 220h160v-160H400v160ZM180-400h160v-160H180v160Zm440 0h160v-160H620v160ZM180-180h160v-160H180v160Zm440 0h160v-160H620v160Z\"/>\n",
              "  </svg>\n",
              "    </button>\n",
              "\n",
              "  <style>\n",
              "    .colab-df-container {\n",
              "      display:flex;\n",
              "      gap: 12px;\n",
              "    }\n",
              "\n",
              "    .colab-df-convert {\n",
              "      background-color: #E8F0FE;\n",
              "      border: none;\n",
              "      border-radius: 50%;\n",
              "      cursor: pointer;\n",
              "      display: none;\n",
              "      fill: #1967D2;\n",
              "      height: 32px;\n",
              "      padding: 0 0 0 0;\n",
              "      width: 32px;\n",
              "    }\n",
              "\n",
              "    .colab-df-convert:hover {\n",
              "      background-color: #E2EBFA;\n",
              "      box-shadow: 0px 1px 2px rgba(60, 64, 67, 0.3), 0px 1px 3px 1px rgba(60, 64, 67, 0.15);\n",
              "      fill: #174EA6;\n",
              "    }\n",
              "\n",
              "    .colab-df-buttons div {\n",
              "      margin-bottom: 4px;\n",
              "    }\n",
              "\n",
              "    [theme=dark] .colab-df-convert {\n",
              "      background-color: #3B4455;\n",
              "      fill: #D2E3FC;\n",
              "    }\n",
              "\n",
              "    [theme=dark] .colab-df-convert:hover {\n",
              "      background-color: #434B5C;\n",
              "      box-shadow: 0px 1px 3px 1px rgba(0, 0, 0, 0.15);\n",
              "      filter: drop-shadow(0px 1px 2px rgba(0, 0, 0, 0.3));\n",
              "      fill: #FFFFFF;\n",
              "    }\n",
              "  </style>\n",
              "\n",
              "    <script>\n",
              "      const buttonEl =\n",
              "        document.querySelector('#df-4e595dcf-5cf8-4247-9de2-04c0b5cc63bf button.colab-df-convert');\n",
              "      buttonEl.style.display =\n",
              "        google.colab.kernel.accessAllowed ? 'block' : 'none';\n",
              "\n",
              "      async function convertToInteractive(key) {\n",
              "        const element = document.querySelector('#df-4e595dcf-5cf8-4247-9de2-04c0b5cc63bf');\n",
              "        const dataTable =\n",
              "          await google.colab.kernel.invokeFunction('convertToInteractive',\n",
              "                                                    [key], {});\n",
              "        if (!dataTable) return;\n",
              "\n",
              "        const docLinkHtml = 'Like what you see? Visit the ' +\n",
              "          '<a target=\"_blank\" href=https://colab.research.google.com/notebooks/data_table.ipynb>data table notebook</a>'\n",
              "          + ' to learn more about interactive tables.';\n",
              "        element.innerHTML = '';\n",
              "        dataTable['output_type'] = 'display_data';\n",
              "        await google.colab.output.renderOutput(dataTable, element);\n",
              "        const docLink = document.createElement('div');\n",
              "        docLink.innerHTML = docLinkHtml;\n",
              "        element.appendChild(docLink);\n",
              "      }\n",
              "    </script>\n",
              "  </div>\n",
              "\n",
              "\n",
              "<div id=\"df-3e2d38d9-9c23-4ca3-b482-720a70a9667c\">\n",
              "  <button class=\"colab-df-quickchart\" onclick=\"quickchart('df-3e2d38d9-9c23-4ca3-b482-720a70a9667c')\"\n",
              "            title=\"Suggest charts\"\n",
              "            style=\"display:none;\">\n",
              "\n",
              "<svg xmlns=\"http://www.w3.org/2000/svg\" height=\"24px\"viewBox=\"0 0 24 24\"\n",
              "     width=\"24px\">\n",
              "    <g>\n",
              "        <path d=\"M19 3H5c-1.1 0-2 .9-2 2v14c0 1.1.9 2 2 2h14c1.1 0 2-.9 2-2V5c0-1.1-.9-2-2-2zM9 17H7v-7h2v7zm4 0h-2V7h2v10zm4 0h-2v-4h2v4z\"/>\n",
              "    </g>\n",
              "</svg>\n",
              "  </button>\n",
              "\n",
              "<style>\n",
              "  .colab-df-quickchart {\n",
              "      --bg-color: #E8F0FE;\n",
              "      --fill-color: #1967D2;\n",
              "      --hover-bg-color: #E2EBFA;\n",
              "      --hover-fill-color: #174EA6;\n",
              "      --disabled-fill-color: #AAA;\n",
              "      --disabled-bg-color: #DDD;\n",
              "  }\n",
              "\n",
              "  [theme=dark] .colab-df-quickchart {\n",
              "      --bg-color: #3B4455;\n",
              "      --fill-color: #D2E3FC;\n",
              "      --hover-bg-color: #434B5C;\n",
              "      --hover-fill-color: #FFFFFF;\n",
              "      --disabled-bg-color: #3B4455;\n",
              "      --disabled-fill-color: #666;\n",
              "  }\n",
              "\n",
              "  .colab-df-quickchart {\n",
              "    background-color: var(--bg-color);\n",
              "    border: none;\n",
              "    border-radius: 50%;\n",
              "    cursor: pointer;\n",
              "    display: none;\n",
              "    fill: var(--fill-color);\n",
              "    height: 32px;\n",
              "    padding: 0;\n",
              "    width: 32px;\n",
              "  }\n",
              "\n",
              "  .colab-df-quickchart:hover {\n",
              "    background-color: var(--hover-bg-color);\n",
              "    box-shadow: 0 1px 2px rgba(60, 64, 67, 0.3), 0 1px 3px 1px rgba(60, 64, 67, 0.15);\n",
              "    fill: var(--button-hover-fill-color);\n",
              "  }\n",
              "\n",
              "  .colab-df-quickchart-complete:disabled,\n",
              "  .colab-df-quickchart-complete:disabled:hover {\n",
              "    background-color: var(--disabled-bg-color);\n",
              "    fill: var(--disabled-fill-color);\n",
              "    box-shadow: none;\n",
              "  }\n",
              "\n",
              "  .colab-df-spinner {\n",
              "    border: 2px solid var(--fill-color);\n",
              "    border-color: transparent;\n",
              "    border-bottom-color: var(--fill-color);\n",
              "    animation:\n",
              "      spin 1s steps(1) infinite;\n",
              "  }\n",
              "\n",
              "  @keyframes spin {\n",
              "    0% {\n",
              "      border-color: transparent;\n",
              "      border-bottom-color: var(--fill-color);\n",
              "      border-left-color: var(--fill-color);\n",
              "    }\n",
              "    20% {\n",
              "      border-color: transparent;\n",
              "      border-left-color: var(--fill-color);\n",
              "      border-top-color: var(--fill-color);\n",
              "    }\n",
              "    30% {\n",
              "      border-color: transparent;\n",
              "      border-left-color: var(--fill-color);\n",
              "      border-top-color: var(--fill-color);\n",
              "      border-right-color: var(--fill-color);\n",
              "    }\n",
              "    40% {\n",
              "      border-color: transparent;\n",
              "      border-right-color: var(--fill-color);\n",
              "      border-top-color: var(--fill-color);\n",
              "    }\n",
              "    60% {\n",
              "      border-color: transparent;\n",
              "      border-right-color: var(--fill-color);\n",
              "    }\n",
              "    80% {\n",
              "      border-color: transparent;\n",
              "      border-right-color: var(--fill-color);\n",
              "      border-bottom-color: var(--fill-color);\n",
              "    }\n",
              "    90% {\n",
              "      border-color: transparent;\n",
              "      border-bottom-color: var(--fill-color);\n",
              "    }\n",
              "  }\n",
              "</style>\n",
              "\n",
              "  <script>\n",
              "    async function quickchart(key) {\n",
              "      const quickchartButtonEl =\n",
              "        document.querySelector('#' + key + ' button');\n",
              "      quickchartButtonEl.disabled = true;  // To prevent multiple clicks.\n",
              "      quickchartButtonEl.classList.add('colab-df-spinner');\n",
              "      try {\n",
              "        const charts = await google.colab.kernel.invokeFunction(\n",
              "            'suggestCharts', [key], {});\n",
              "      } catch (error) {\n",
              "        console.error('Error during call to suggestCharts:', error);\n",
              "      }\n",
              "      quickchartButtonEl.classList.remove('colab-df-spinner');\n",
              "      quickchartButtonEl.classList.add('colab-df-quickchart-complete');\n",
              "    }\n",
              "    (() => {\n",
              "      let quickchartButtonEl =\n",
              "        document.querySelector('#df-3e2d38d9-9c23-4ca3-b482-720a70a9667c button');\n",
              "      quickchartButtonEl.style.display =\n",
              "        google.colab.kernel.accessAllowed ? 'block' : 'none';\n",
              "    })();\n",
              "  </script>\n",
              "</div>\n",
              "    </div>\n",
              "  </div>\n"
            ],
            "text/plain": [
              "   Gender  FSIQ  VIQ  PIQ  Weight  Height  MRI_Count\n",
              "0  Female   133  132  124   118.0    64.5     816932\n",
              "1    Male   140  150  124     NaN    72.5    1001121\n",
              "2    Male   139  123  150   143.0    73.3    1038437\n",
              "3    Male   133  129  128   172.0    68.8     965353\n",
              "4  Female   137  132  134   147.0    65.0     951545"
            ]
          },
          "execution_count": 6,
          "metadata": {},
          "output_type": "execute_result"
        }
      ],
      "source": [
        "brainFrame = pd.read_csv(\"brainsize.txt\", delimiter='\\t')\n",
        "brainFrame.head()"
      ]
    },
    {
      "cell_type": "markdown",
      "metadata": {
        "id": "pSqqKKlYxThc"
      },
      "source": [
        "Метод head() принимает параметр - число строк, отобразите первые 10 строк таблицы"
      ]
    },
    {
      "cell_type": "code",
      "execution_count": 5,
      "metadata": {
        "colab": {
          "base_uri": "https://localhost:8080/",
          "height": 363
        },
        "id": "19H9lhd1xThd",
        "outputId": "38101463-2821-43a1-b81e-82ef5e759c9c"
      },
      "outputs": [
        {
          "data": {
            "application/vnd.google.colaboratory.intrinsic+json": {
              "summary": "{\n  \"name\": \"brainFrame\",\n  \"rows\": 40,\n  \"fields\": [\n    {\n      \"column\": \"Gender\",\n      \"properties\": {\n        \"dtype\": \"category\",\n        \"num_unique_values\": 2,\n        \"samples\": [\n          \"Male\",\n          \"Female\"\n        ],\n        \"semantic_type\": \"\",\n        \"description\": \"\"\n      }\n    },\n    {\n      \"column\": \"FSIQ\",\n      \"properties\": {\n        \"dtype\": \"number\",\n        \"std\": 24,\n        \"min\": 77,\n        \"max\": 144,\n        \"num_unique_values\": 26,\n        \"samples\": [\n          132,\n          97\n        ],\n        \"semantic_type\": \"\",\n        \"description\": \"\"\n      }\n    },\n    {\n      \"column\": \"VIQ\",\n      \"properties\": {\n        \"dtype\": \"number\",\n        \"std\": 23,\n        \"min\": 71,\n        \"max\": 150,\n        \"num_unique_values\": 20,\n        \"samples\": [\n          132,\n          86\n        ],\n        \"semantic_type\": \"\",\n        \"description\": \"\"\n      }\n    },\n    {\n      \"column\": \"PIQ\",\n      \"properties\": {\n        \"dtype\": \"number\",\n        \"std\": 22,\n        \"min\": 72,\n        \"max\": 150,\n        \"num_unique_values\": 21,\n        \"samples\": [\n          124,\n          81\n        ],\n        \"semantic_type\": \"\",\n        \"description\": \"\"\n      }\n    },\n    {\n      \"column\": \"Weight\",\n      \"properties\": {\n        \"dtype\": \"number\",\n        \"std\": 23.478509286005146,\n        \"min\": 106.0,\n        \"max\": 192.0,\n        \"num_unique_values\": 32,\n        \"samples\": [\n          139.0,\n          186.0\n        ],\n        \"semantic_type\": \"\",\n        \"description\": \"\"\n      }\n    },\n    {\n      \"column\": \"Height\",\n      \"properties\": {\n        \"dtype\": \"number\",\n        \"std\": 3.99464891736551,\n        \"min\": 62.0,\n        \"max\": 77.0,\n        \"num_unique_values\": 23,\n        \"samples\": [\n          63.0,\n          70.5\n        ],\n        \"semantic_type\": \"\",\n        \"description\": \"\"\n      }\n    },\n    {\n      \"column\": \"MRI_Count\",\n      \"properties\": {\n        \"dtype\": \"number\",\n        \"std\": 72282,\n        \"min\": 790619,\n        \"max\": 1079549,\n        \"num_unique_values\": 40,\n        \"samples\": [\n          889083,\n          852244\n        ],\n        \"semantic_type\": \"\",\n        \"description\": \"\"\n      }\n    }\n  ]\n}",
              "type": "dataframe",
              "variable_name": "brainFrame"
            },
            "text/html": [
              "\n",
              "  <div id=\"df-d527d052-c304-4a4b-bcbd-28e91449feac\" class=\"colab-df-container\">\n",
              "    <div>\n",
              "<style scoped>\n",
              "    .dataframe tbody tr th:only-of-type {\n",
              "        vertical-align: middle;\n",
              "    }\n",
              "\n",
              "    .dataframe tbody tr th {\n",
              "        vertical-align: top;\n",
              "    }\n",
              "\n",
              "    .dataframe thead th {\n",
              "        text-align: right;\n",
              "    }\n",
              "</style>\n",
              "<table border=\"1\" class=\"dataframe\">\n",
              "  <thead>\n",
              "    <tr style=\"text-align: right;\">\n",
              "      <th></th>\n",
              "      <th>Gender</th>\n",
              "      <th>FSIQ</th>\n",
              "      <th>VIQ</th>\n",
              "      <th>PIQ</th>\n",
              "      <th>Weight</th>\n",
              "      <th>Height</th>\n",
              "      <th>MRI_Count</th>\n",
              "    </tr>\n",
              "  </thead>\n",
              "  <tbody>\n",
              "    <tr>\n",
              "      <th>0</th>\n",
              "      <td>Female</td>\n",
              "      <td>133</td>\n",
              "      <td>132</td>\n",
              "      <td>124</td>\n",
              "      <td>118.0</td>\n",
              "      <td>64.5</td>\n",
              "      <td>816932</td>\n",
              "    </tr>\n",
              "    <tr>\n",
              "      <th>1</th>\n",
              "      <td>Male</td>\n",
              "      <td>140</td>\n",
              "      <td>150</td>\n",
              "      <td>124</td>\n",
              "      <td>NaN</td>\n",
              "      <td>72.5</td>\n",
              "      <td>1001121</td>\n",
              "    </tr>\n",
              "    <tr>\n",
              "      <th>2</th>\n",
              "      <td>Male</td>\n",
              "      <td>139</td>\n",
              "      <td>123</td>\n",
              "      <td>150</td>\n",
              "      <td>143.0</td>\n",
              "      <td>73.3</td>\n",
              "      <td>1038437</td>\n",
              "    </tr>\n",
              "    <tr>\n",
              "      <th>3</th>\n",
              "      <td>Male</td>\n",
              "      <td>133</td>\n",
              "      <td>129</td>\n",
              "      <td>128</td>\n",
              "      <td>172.0</td>\n",
              "      <td>68.8</td>\n",
              "      <td>965353</td>\n",
              "    </tr>\n",
              "    <tr>\n",
              "      <th>4</th>\n",
              "      <td>Female</td>\n",
              "      <td>137</td>\n",
              "      <td>132</td>\n",
              "      <td>134</td>\n",
              "      <td>147.0</td>\n",
              "      <td>65.0</td>\n",
              "      <td>951545</td>\n",
              "    </tr>\n",
              "    <tr>\n",
              "      <th>5</th>\n",
              "      <td>Female</td>\n",
              "      <td>99</td>\n",
              "      <td>90</td>\n",
              "      <td>110</td>\n",
              "      <td>146.0</td>\n",
              "      <td>69.0</td>\n",
              "      <td>928799</td>\n",
              "    </tr>\n",
              "    <tr>\n",
              "      <th>6</th>\n",
              "      <td>Female</td>\n",
              "      <td>138</td>\n",
              "      <td>136</td>\n",
              "      <td>131</td>\n",
              "      <td>138.0</td>\n",
              "      <td>64.5</td>\n",
              "      <td>991305</td>\n",
              "    </tr>\n",
              "    <tr>\n",
              "      <th>7</th>\n",
              "      <td>Female</td>\n",
              "      <td>92</td>\n",
              "      <td>90</td>\n",
              "      <td>98</td>\n",
              "      <td>175.0</td>\n",
              "      <td>66.0</td>\n",
              "      <td>854258</td>\n",
              "    </tr>\n",
              "    <tr>\n",
              "      <th>8</th>\n",
              "      <td>Male</td>\n",
              "      <td>89</td>\n",
              "      <td>93</td>\n",
              "      <td>84</td>\n",
              "      <td>134.0</td>\n",
              "      <td>66.3</td>\n",
              "      <td>904858</td>\n",
              "    </tr>\n",
              "    <tr>\n",
              "      <th>9</th>\n",
              "      <td>Male</td>\n",
              "      <td>133</td>\n",
              "      <td>114</td>\n",
              "      <td>147</td>\n",
              "      <td>172.0</td>\n",
              "      <td>68.8</td>\n",
              "      <td>955466</td>\n",
              "    </tr>\n",
              "  </tbody>\n",
              "</table>\n",
              "</div>\n",
              "    <div class=\"colab-df-buttons\">\n",
              "\n",
              "  <div class=\"colab-df-container\">\n",
              "    <button class=\"colab-df-convert\" onclick=\"convertToInteractive('df-d527d052-c304-4a4b-bcbd-28e91449feac')\"\n",
              "            title=\"Convert this dataframe to an interactive table.\"\n",
              "            style=\"display:none;\">\n",
              "\n",
              "  <svg xmlns=\"http://www.w3.org/2000/svg\" height=\"24px\" viewBox=\"0 -960 960 960\">\n",
              "    <path d=\"M120-120v-720h720v720H120Zm60-500h600v-160H180v160Zm220 220h160v-160H400v160Zm0 220h160v-160H400v160ZM180-400h160v-160H180v160Zm440 0h160v-160H620v160ZM180-180h160v-160H180v160Zm440 0h160v-160H620v160Z\"/>\n",
              "  </svg>\n",
              "    </button>\n",
              "\n",
              "  <style>\n",
              "    .colab-df-container {\n",
              "      display:flex;\n",
              "      gap: 12px;\n",
              "    }\n",
              "\n",
              "    .colab-df-convert {\n",
              "      background-color: #E8F0FE;\n",
              "      border: none;\n",
              "      border-radius: 50%;\n",
              "      cursor: pointer;\n",
              "      display: none;\n",
              "      fill: #1967D2;\n",
              "      height: 32px;\n",
              "      padding: 0 0 0 0;\n",
              "      width: 32px;\n",
              "    }\n",
              "\n",
              "    .colab-df-convert:hover {\n",
              "      background-color: #E2EBFA;\n",
              "      box-shadow: 0px 1px 2px rgba(60, 64, 67, 0.3), 0px 1px 3px 1px rgba(60, 64, 67, 0.15);\n",
              "      fill: #174EA6;\n",
              "    }\n",
              "\n",
              "    .colab-df-buttons div {\n",
              "      margin-bottom: 4px;\n",
              "    }\n",
              "\n",
              "    [theme=dark] .colab-df-convert {\n",
              "      background-color: #3B4455;\n",
              "      fill: #D2E3FC;\n",
              "    }\n",
              "\n",
              "    [theme=dark] .colab-df-convert:hover {\n",
              "      background-color: #434B5C;\n",
              "      box-shadow: 0px 1px 3px 1px rgba(0, 0, 0, 0.15);\n",
              "      filter: drop-shadow(0px 1px 2px rgba(0, 0, 0, 0.3));\n",
              "      fill: #FFFFFF;\n",
              "    }\n",
              "  </style>\n",
              "\n",
              "    <script>\n",
              "      const buttonEl =\n",
              "        document.querySelector('#df-d527d052-c304-4a4b-bcbd-28e91449feac button.colab-df-convert');\n",
              "      buttonEl.style.display =\n",
              "        google.colab.kernel.accessAllowed ? 'block' : 'none';\n",
              "\n",
              "      async function convertToInteractive(key) {\n",
              "        const element = document.querySelector('#df-d527d052-c304-4a4b-bcbd-28e91449feac');\n",
              "        const dataTable =\n",
              "          await google.colab.kernel.invokeFunction('convertToInteractive',\n",
              "                                                    [key], {});\n",
              "        if (!dataTable) return;\n",
              "\n",
              "        const docLinkHtml = 'Like what you see? Visit the ' +\n",
              "          '<a target=\"_blank\" href=https://colab.research.google.com/notebooks/data_table.ipynb>data table notebook</a>'\n",
              "          + ' to learn more about interactive tables.';\n",
              "        element.innerHTML = '';\n",
              "        dataTable['output_type'] = 'display_data';\n",
              "        await google.colab.output.renderOutput(dataTable, element);\n",
              "        const docLink = document.createElement('div');\n",
              "        docLink.innerHTML = docLinkHtml;\n",
              "        element.appendChild(docLink);\n",
              "      }\n",
              "    </script>\n",
              "  </div>\n",
              "\n",
              "\n",
              "<div id=\"df-cc823d1e-36c8-4f90-b28a-e7d0b81499ac\">\n",
              "  <button class=\"colab-df-quickchart\" onclick=\"quickchart('df-cc823d1e-36c8-4f90-b28a-e7d0b81499ac')\"\n",
              "            title=\"Suggest charts\"\n",
              "            style=\"display:none;\">\n",
              "\n",
              "<svg xmlns=\"http://www.w3.org/2000/svg\" height=\"24px\"viewBox=\"0 0 24 24\"\n",
              "     width=\"24px\">\n",
              "    <g>\n",
              "        <path d=\"M19 3H5c-1.1 0-2 .9-2 2v14c0 1.1.9 2 2 2h14c1.1 0 2-.9 2-2V5c0-1.1-.9-2-2-2zM9 17H7v-7h2v7zm4 0h-2V7h2v10zm4 0h-2v-4h2v4z\"/>\n",
              "    </g>\n",
              "</svg>\n",
              "  </button>\n",
              "\n",
              "<style>\n",
              "  .colab-df-quickchart {\n",
              "      --bg-color: #E8F0FE;\n",
              "      --fill-color: #1967D2;\n",
              "      --hover-bg-color: #E2EBFA;\n",
              "      --hover-fill-color: #174EA6;\n",
              "      --disabled-fill-color: #AAA;\n",
              "      --disabled-bg-color: #DDD;\n",
              "  }\n",
              "\n",
              "  [theme=dark] .colab-df-quickchart {\n",
              "      --bg-color: #3B4455;\n",
              "      --fill-color: #D2E3FC;\n",
              "      --hover-bg-color: #434B5C;\n",
              "      --hover-fill-color: #FFFFFF;\n",
              "      --disabled-bg-color: #3B4455;\n",
              "      --disabled-fill-color: #666;\n",
              "  }\n",
              "\n",
              "  .colab-df-quickchart {\n",
              "    background-color: var(--bg-color);\n",
              "    border: none;\n",
              "    border-radius: 50%;\n",
              "    cursor: pointer;\n",
              "    display: none;\n",
              "    fill: var(--fill-color);\n",
              "    height: 32px;\n",
              "    padding: 0;\n",
              "    width: 32px;\n",
              "  }\n",
              "\n",
              "  .colab-df-quickchart:hover {\n",
              "    background-color: var(--hover-bg-color);\n",
              "    box-shadow: 0 1px 2px rgba(60, 64, 67, 0.3), 0 1px 3px 1px rgba(60, 64, 67, 0.15);\n",
              "    fill: var(--button-hover-fill-color);\n",
              "  }\n",
              "\n",
              "  .colab-df-quickchart-complete:disabled,\n",
              "  .colab-df-quickchart-complete:disabled:hover {\n",
              "    background-color: var(--disabled-bg-color);\n",
              "    fill: var(--disabled-fill-color);\n",
              "    box-shadow: none;\n",
              "  }\n",
              "\n",
              "  .colab-df-spinner {\n",
              "    border: 2px solid var(--fill-color);\n",
              "    border-color: transparent;\n",
              "    border-bottom-color: var(--fill-color);\n",
              "    animation:\n",
              "      spin 1s steps(1) infinite;\n",
              "  }\n",
              "\n",
              "  @keyframes spin {\n",
              "    0% {\n",
              "      border-color: transparent;\n",
              "      border-bottom-color: var(--fill-color);\n",
              "      border-left-color: var(--fill-color);\n",
              "    }\n",
              "    20% {\n",
              "      border-color: transparent;\n",
              "      border-left-color: var(--fill-color);\n",
              "      border-top-color: var(--fill-color);\n",
              "    }\n",
              "    30% {\n",
              "      border-color: transparent;\n",
              "      border-left-color: var(--fill-color);\n",
              "      border-top-color: var(--fill-color);\n",
              "      border-right-color: var(--fill-color);\n",
              "    }\n",
              "    40% {\n",
              "      border-color: transparent;\n",
              "      border-right-color: var(--fill-color);\n",
              "      border-top-color: var(--fill-color);\n",
              "    }\n",
              "    60% {\n",
              "      border-color: transparent;\n",
              "      border-right-color: var(--fill-color);\n",
              "    }\n",
              "    80% {\n",
              "      border-color: transparent;\n",
              "      border-right-color: var(--fill-color);\n",
              "      border-bottom-color: var(--fill-color);\n",
              "    }\n",
              "    90% {\n",
              "      border-color: transparent;\n",
              "      border-bottom-color: var(--fill-color);\n",
              "    }\n",
              "  }\n",
              "</style>\n",
              "\n",
              "  <script>\n",
              "    async function quickchart(key) {\n",
              "      const quickchartButtonEl =\n",
              "        document.querySelector('#' + key + ' button');\n",
              "      quickchartButtonEl.disabled = true;  // To prevent multiple clicks.\n",
              "      quickchartButtonEl.classList.add('colab-df-spinner');\n",
              "      try {\n",
              "        const charts = await google.colab.kernel.invokeFunction(\n",
              "            'suggestCharts', [key], {});\n",
              "      } catch (error) {\n",
              "        console.error('Error during call to suggestCharts:', error);\n",
              "      }\n",
              "      quickchartButtonEl.classList.remove('colab-df-spinner');\n",
              "      quickchartButtonEl.classList.add('colab-df-quickchart-complete');\n",
              "    }\n",
              "    (() => {\n",
              "      let quickchartButtonEl =\n",
              "        document.querySelector('#df-cc823d1e-36c8-4f90-b28a-e7d0b81499ac button');\n",
              "      quickchartButtonEl.style.display =\n",
              "        google.colab.kernel.accessAllowed ? 'block' : 'none';\n",
              "    })();\n",
              "  </script>\n",
              "</div>\n",
              "    </div>\n",
              "  </div>\n"
            ],
            "text/plain": [
              "   Gender  FSIQ  VIQ  PIQ  Weight  Height  MRI_Count\n",
              "0  Female   133  132  124   118.0    64.5     816932\n",
              "1    Male   140  150  124     NaN    72.5    1001121\n",
              "2    Male   139  123  150   143.0    73.3    1038437\n",
              "3    Male   133  129  128   172.0    68.8     965353\n",
              "4  Female   137  132  134   147.0    65.0     951545\n",
              "5  Female    99   90  110   146.0    69.0     928799\n",
              "6  Female   138  136  131   138.0    64.5     991305\n",
              "7  Female    92   90   98   175.0    66.0     854258\n",
              "8    Male    89   93   84   134.0    66.3     904858\n",
              "9    Male   133  114  147   172.0    68.8     955466"
            ]
          },
          "execution_count": 5,
          "metadata": {},
          "output_type": "execute_result"
        }
      ],
      "source": [
        "brainFrame = pd.read_csv(\"brainsize.txt\", delimiter='\\t')\n",
        "brainFrame.head(10)"
      ]
    },
    {
      "cell_type": "markdown",
      "metadata": {
        "id": "qjmgLk55xThd"
      },
      "source": [
        "Также Dataframe имеет метод tail(), который возвращает последние 5 строк кадра данных. Аналогично head() метод tail() принимает аргументом число строк, которые он вернет. Отобразите последние 8 строк таблицы."
      ]
    },
    {
      "cell_type": "code",
      "execution_count": 9,
      "metadata": {
        "colab": {
          "base_uri": "https://localhost:8080/",
          "height": 300
        },
        "id": "bvdJCmZsxThd",
        "outputId": "808e66b0-fe2f-46dd-a186-0ed6804dd188"
      },
      "outputs": [
        {
          "data": {
            "application/vnd.google.colaboratory.intrinsic+json": {
              "summary": "{\n  \"name\": \"brainFrame\",\n  \"rows\": 8,\n  \"fields\": [\n    {\n      \"column\": \"Gender\",\n      \"properties\": {\n        \"dtype\": \"category\",\n        \"num_unique_values\": 2,\n        \"samples\": [\n          \"Female\",\n          \"Male\"\n        ],\n        \"semantic_type\": \"\",\n        \"description\": \"\"\n      }\n    },\n    {\n      \"column\": \"FSIQ\",\n      \"properties\": {\n        \"dtype\": \"number\",\n        \"std\": 23,\n        \"min\": 81,\n        \"max\": 140,\n        \"num_unique_values\": 8,\n        \"samples\": [\n          90,\n          88\n        ],\n        \"semantic_type\": \"\",\n        \"description\": \"\"\n      }\n    },\n    {\n      \"column\": \"VIQ\",\n      \"properties\": {\n        \"dtype\": \"number\",\n        \"std\": 23,\n        \"min\": 86,\n        \"max\": 150,\n        \"num_unique_values\": 6,\n        \"samples\": [\n          96,\n          90\n        ],\n        \"semantic_type\": \"\",\n        \"description\": \"\"\n      }\n    },\n    {\n      \"column\": \"PIQ\",\n      \"properties\": {\n        \"dtype\": \"number\",\n        \"std\": 20,\n        \"min\": 74,\n        \"max\": 128,\n        \"num_unique_values\": 8,\n        \"samples\": [\n          86,\n          94\n        ],\n        \"semantic_type\": \"\",\n        \"description\": \"\"\n      }\n    },\n    {\n      \"column\": \"Weight\",\n      \"properties\": {\n        \"dtype\": \"number\",\n        \"std\": 20.718780300559615,\n        \"min\": 139.0,\n        \"max\": 192.0,\n        \"num_unique_values\": 8,\n        \"samples\": [\n          181.0,\n          139.0\n        ],\n        \"semantic_type\": \"\",\n        \"description\": \"\"\n      }\n    },\n    {\n      \"column\": \"Height\",\n      \"properties\": {\n        \"dtype\": \"number\",\n        \"std\": 4.342481186734475,\n        \"min\": 64.5,\n        \"max\": 75.5,\n        \"num_unique_values\": 6,\n        \"samples\": [\n          75.5,\n          69.0\n        ],\n        \"semantic_type\": \"\",\n        \"description\": \"\"\n      }\n    },\n    {\n      \"column\": \"MRI_Count\",\n      \"properties\": {\n        \"dtype\": \"number\",\n        \"std\": 50255,\n        \"min\": 834344,\n        \"max\": 997925,\n        \"num_unique_values\": 8,\n        \"samples\": [\n          879987,\n          893983\n        ],\n        \"semantic_type\": \"\",\n        \"description\": \"\"\n      }\n    }\n  ]\n}",
              "type": "dataframe"
            },
            "text/html": [
              "\n",
              "  <div id=\"df-ef2409e2-8b27-48fe-90e9-e9826f203f46\" class=\"colab-df-container\">\n",
              "    <div>\n",
              "<style scoped>\n",
              "    .dataframe tbody tr th:only-of-type {\n",
              "        vertical-align: middle;\n",
              "    }\n",
              "\n",
              "    .dataframe tbody tr th {\n",
              "        vertical-align: top;\n",
              "    }\n",
              "\n",
              "    .dataframe thead th {\n",
              "        text-align: right;\n",
              "    }\n",
              "</style>\n",
              "<table border=\"1\" class=\"dataframe\">\n",
              "  <thead>\n",
              "    <tr style=\"text-align: right;\">\n",
              "      <th></th>\n",
              "      <th>Gender</th>\n",
              "      <th>FSIQ</th>\n",
              "      <th>VIQ</th>\n",
              "      <th>PIQ</th>\n",
              "      <th>Weight</th>\n",
              "      <th>Height</th>\n",
              "      <th>MRI_Count</th>\n",
              "    </tr>\n",
              "  </thead>\n",
              "  <tbody>\n",
              "    <tr>\n",
              "      <th>32</th>\n",
              "      <td>Male</td>\n",
              "      <td>103</td>\n",
              "      <td>96</td>\n",
              "      <td>110</td>\n",
              "      <td>192.0</td>\n",
              "      <td>75.5</td>\n",
              "      <td>997925</td>\n",
              "    </tr>\n",
              "    <tr>\n",
              "      <th>33</th>\n",
              "      <td>Male</td>\n",
              "      <td>90</td>\n",
              "      <td>96</td>\n",
              "      <td>86</td>\n",
              "      <td>181.0</td>\n",
              "      <td>69.0</td>\n",
              "      <td>879987</td>\n",
              "    </tr>\n",
              "    <tr>\n",
              "      <th>34</th>\n",
              "      <td>Female</td>\n",
              "      <td>83</td>\n",
              "      <td>90</td>\n",
              "      <td>81</td>\n",
              "      <td>143.0</td>\n",
              "      <td>66.5</td>\n",
              "      <td>834344</td>\n",
              "    </tr>\n",
              "    <tr>\n",
              "      <th>35</th>\n",
              "      <td>Female</td>\n",
              "      <td>133</td>\n",
              "      <td>129</td>\n",
              "      <td>128</td>\n",
              "      <td>153.0</td>\n",
              "      <td>66.5</td>\n",
              "      <td>948066</td>\n",
              "    </tr>\n",
              "    <tr>\n",
              "      <th>36</th>\n",
              "      <td>Male</td>\n",
              "      <td>140</td>\n",
              "      <td>150</td>\n",
              "      <td>124</td>\n",
              "      <td>144.0</td>\n",
              "      <td>70.5</td>\n",
              "      <td>949395</td>\n",
              "    </tr>\n",
              "    <tr>\n",
              "      <th>37</th>\n",
              "      <td>Female</td>\n",
              "      <td>88</td>\n",
              "      <td>86</td>\n",
              "      <td>94</td>\n",
              "      <td>139.0</td>\n",
              "      <td>64.5</td>\n",
              "      <td>893983</td>\n",
              "    </tr>\n",
              "    <tr>\n",
              "      <th>38</th>\n",
              "      <td>Male</td>\n",
              "      <td>81</td>\n",
              "      <td>90</td>\n",
              "      <td>74</td>\n",
              "      <td>148.0</td>\n",
              "      <td>74.0</td>\n",
              "      <td>930016</td>\n",
              "    </tr>\n",
              "    <tr>\n",
              "      <th>39</th>\n",
              "      <td>Male</td>\n",
              "      <td>89</td>\n",
              "      <td>91</td>\n",
              "      <td>89</td>\n",
              "      <td>179.0</td>\n",
              "      <td>75.5</td>\n",
              "      <td>935863</td>\n",
              "    </tr>\n",
              "  </tbody>\n",
              "</table>\n",
              "</div>\n",
              "    <div class=\"colab-df-buttons\">\n",
              "\n",
              "  <div class=\"colab-df-container\">\n",
              "    <button class=\"colab-df-convert\" onclick=\"convertToInteractive('df-ef2409e2-8b27-48fe-90e9-e9826f203f46')\"\n",
              "            title=\"Convert this dataframe to an interactive table.\"\n",
              "            style=\"display:none;\">\n",
              "\n",
              "  <svg xmlns=\"http://www.w3.org/2000/svg\" height=\"24px\" viewBox=\"0 -960 960 960\">\n",
              "    <path d=\"M120-120v-720h720v720H120Zm60-500h600v-160H180v160Zm220 220h160v-160H400v160Zm0 220h160v-160H400v160ZM180-400h160v-160H180v160Zm440 0h160v-160H620v160ZM180-180h160v-160H180v160Zm440 0h160v-160H620v160Z\"/>\n",
              "  </svg>\n",
              "    </button>\n",
              "\n",
              "  <style>\n",
              "    .colab-df-container {\n",
              "      display:flex;\n",
              "      gap: 12px;\n",
              "    }\n",
              "\n",
              "    .colab-df-convert {\n",
              "      background-color: #E8F0FE;\n",
              "      border: none;\n",
              "      border-radius: 50%;\n",
              "      cursor: pointer;\n",
              "      display: none;\n",
              "      fill: #1967D2;\n",
              "      height: 32px;\n",
              "      padding: 0 0 0 0;\n",
              "      width: 32px;\n",
              "    }\n",
              "\n",
              "    .colab-df-convert:hover {\n",
              "      background-color: #E2EBFA;\n",
              "      box-shadow: 0px 1px 2px rgba(60, 64, 67, 0.3), 0px 1px 3px 1px rgba(60, 64, 67, 0.15);\n",
              "      fill: #174EA6;\n",
              "    }\n",
              "\n",
              "    .colab-df-buttons div {\n",
              "      margin-bottom: 4px;\n",
              "    }\n",
              "\n",
              "    [theme=dark] .colab-df-convert {\n",
              "      background-color: #3B4455;\n",
              "      fill: #D2E3FC;\n",
              "    }\n",
              "\n",
              "    [theme=dark] .colab-df-convert:hover {\n",
              "      background-color: #434B5C;\n",
              "      box-shadow: 0px 1px 3px 1px rgba(0, 0, 0, 0.15);\n",
              "      filter: drop-shadow(0px 1px 2px rgba(0, 0, 0, 0.3));\n",
              "      fill: #FFFFFF;\n",
              "    }\n",
              "  </style>\n",
              "\n",
              "    <script>\n",
              "      const buttonEl =\n",
              "        document.querySelector('#df-ef2409e2-8b27-48fe-90e9-e9826f203f46 button.colab-df-convert');\n",
              "      buttonEl.style.display =\n",
              "        google.colab.kernel.accessAllowed ? 'block' : 'none';\n",
              "\n",
              "      async function convertToInteractive(key) {\n",
              "        const element = document.querySelector('#df-ef2409e2-8b27-48fe-90e9-e9826f203f46');\n",
              "        const dataTable =\n",
              "          await google.colab.kernel.invokeFunction('convertToInteractive',\n",
              "                                                    [key], {});\n",
              "        if (!dataTable) return;\n",
              "\n",
              "        const docLinkHtml = 'Like what you see? Visit the ' +\n",
              "          '<a target=\"_blank\" href=https://colab.research.google.com/notebooks/data_table.ipynb>data table notebook</a>'\n",
              "          + ' to learn more about interactive tables.';\n",
              "        element.innerHTML = '';\n",
              "        dataTable['output_type'] = 'display_data';\n",
              "        await google.colab.output.renderOutput(dataTable, element);\n",
              "        const docLink = document.createElement('div');\n",
              "        docLink.innerHTML = docLinkHtml;\n",
              "        element.appendChild(docLink);\n",
              "      }\n",
              "    </script>\n",
              "  </div>\n",
              "\n",
              "\n",
              "<div id=\"df-f3afb110-a9cc-4d86-92ad-00817cf21a0e\">\n",
              "  <button class=\"colab-df-quickchart\" onclick=\"quickchart('df-f3afb110-a9cc-4d86-92ad-00817cf21a0e')\"\n",
              "            title=\"Suggest charts\"\n",
              "            style=\"display:none;\">\n",
              "\n",
              "<svg xmlns=\"http://www.w3.org/2000/svg\" height=\"24px\"viewBox=\"0 0 24 24\"\n",
              "     width=\"24px\">\n",
              "    <g>\n",
              "        <path d=\"M19 3H5c-1.1 0-2 .9-2 2v14c0 1.1.9 2 2 2h14c1.1 0 2-.9 2-2V5c0-1.1-.9-2-2-2zM9 17H7v-7h2v7zm4 0h-2V7h2v10zm4 0h-2v-4h2v4z\"/>\n",
              "    </g>\n",
              "</svg>\n",
              "  </button>\n",
              "\n",
              "<style>\n",
              "  .colab-df-quickchart {\n",
              "      --bg-color: #E8F0FE;\n",
              "      --fill-color: #1967D2;\n",
              "      --hover-bg-color: #E2EBFA;\n",
              "      --hover-fill-color: #174EA6;\n",
              "      --disabled-fill-color: #AAA;\n",
              "      --disabled-bg-color: #DDD;\n",
              "  }\n",
              "\n",
              "  [theme=dark] .colab-df-quickchart {\n",
              "      --bg-color: #3B4455;\n",
              "      --fill-color: #D2E3FC;\n",
              "      --hover-bg-color: #434B5C;\n",
              "      --hover-fill-color: #FFFFFF;\n",
              "      --disabled-bg-color: #3B4455;\n",
              "      --disabled-fill-color: #666;\n",
              "  }\n",
              "\n",
              "  .colab-df-quickchart {\n",
              "    background-color: var(--bg-color);\n",
              "    border: none;\n",
              "    border-radius: 50%;\n",
              "    cursor: pointer;\n",
              "    display: none;\n",
              "    fill: var(--fill-color);\n",
              "    height: 32px;\n",
              "    padding: 0;\n",
              "    width: 32px;\n",
              "  }\n",
              "\n",
              "  .colab-df-quickchart:hover {\n",
              "    background-color: var(--hover-bg-color);\n",
              "    box-shadow: 0 1px 2px rgba(60, 64, 67, 0.3), 0 1px 3px 1px rgba(60, 64, 67, 0.15);\n",
              "    fill: var(--button-hover-fill-color);\n",
              "  }\n",
              "\n",
              "  .colab-df-quickchart-complete:disabled,\n",
              "  .colab-df-quickchart-complete:disabled:hover {\n",
              "    background-color: var(--disabled-bg-color);\n",
              "    fill: var(--disabled-fill-color);\n",
              "    box-shadow: none;\n",
              "  }\n",
              "\n",
              "  .colab-df-spinner {\n",
              "    border: 2px solid var(--fill-color);\n",
              "    border-color: transparent;\n",
              "    border-bottom-color: var(--fill-color);\n",
              "    animation:\n",
              "      spin 1s steps(1) infinite;\n",
              "  }\n",
              "\n",
              "  @keyframes spin {\n",
              "    0% {\n",
              "      border-color: transparent;\n",
              "      border-bottom-color: var(--fill-color);\n",
              "      border-left-color: var(--fill-color);\n",
              "    }\n",
              "    20% {\n",
              "      border-color: transparent;\n",
              "      border-left-color: var(--fill-color);\n",
              "      border-top-color: var(--fill-color);\n",
              "    }\n",
              "    30% {\n",
              "      border-color: transparent;\n",
              "      border-left-color: var(--fill-color);\n",
              "      border-top-color: var(--fill-color);\n",
              "      border-right-color: var(--fill-color);\n",
              "    }\n",
              "    40% {\n",
              "      border-color: transparent;\n",
              "      border-right-color: var(--fill-color);\n",
              "      border-top-color: var(--fill-color);\n",
              "    }\n",
              "    60% {\n",
              "      border-color: transparent;\n",
              "      border-right-color: var(--fill-color);\n",
              "    }\n",
              "    80% {\n",
              "      border-color: transparent;\n",
              "      border-right-color: var(--fill-color);\n",
              "      border-bottom-color: var(--fill-color);\n",
              "    }\n",
              "    90% {\n",
              "      border-color: transparent;\n",
              "      border-bottom-color: var(--fill-color);\n",
              "    }\n",
              "  }\n",
              "</style>\n",
              "\n",
              "  <script>\n",
              "    async function quickchart(key) {\n",
              "      const quickchartButtonEl =\n",
              "        document.querySelector('#' + key + ' button');\n",
              "      quickchartButtonEl.disabled = true;  // To prevent multiple clicks.\n",
              "      quickchartButtonEl.classList.add('colab-df-spinner');\n",
              "      try {\n",
              "        const charts = await google.colab.kernel.invokeFunction(\n",
              "            'suggestCharts', [key], {});\n",
              "      } catch (error) {\n",
              "        console.error('Error during call to suggestCharts:', error);\n",
              "      }\n",
              "      quickchartButtonEl.classList.remove('colab-df-spinner');\n",
              "      quickchartButtonEl.classList.add('colab-df-quickchart-complete');\n",
              "    }\n",
              "    (() => {\n",
              "      let quickchartButtonEl =\n",
              "        document.querySelector('#df-f3afb110-a9cc-4d86-92ad-00817cf21a0e button');\n",
              "      quickchartButtonEl.style.display =\n",
              "        google.colab.kernel.accessAllowed ? 'block' : 'none';\n",
              "    })();\n",
              "  </script>\n",
              "</div>\n",
              "    </div>\n",
              "  </div>\n"
            ],
            "text/plain": [
              "    Gender  FSIQ  VIQ  PIQ  Weight  Height  MRI_Count\n",
              "32    Male   103   96  110   192.0    75.5     997925\n",
              "33    Male    90   96   86   181.0    69.0     879987\n",
              "34  Female    83   90   81   143.0    66.5     834344\n",
              "35  Female   133  129  128   153.0    66.5     948066\n",
              "36    Male   140  150  124   144.0    70.5     949395\n",
              "37  Female    88   86   94   139.0    64.5     893983\n",
              "38    Male    81   90   74   148.0    74.0     930016\n",
              "39    Male    89   91   89   179.0    75.5     935863"
            ]
          },
          "execution_count": 9,
          "metadata": {},
          "output_type": "execute_result"
        }
      ],
      "source": [
        "brainFrame = pd.read_csv(\"brainsize.txt\", delimiter='\\t')\n",
        "brainFrame.tail(8)"
      ]
    },
    {
      "cell_type": "markdown",
      "metadata": {
        "id": "f6ZP0YHkxThd"
      },
      "source": [
        "## Часть 2: Диаграммы рассеяния и корреляционные переменные"
      ]
    },
    {
      "cell_type": "markdown",
      "metadata": {
        "id": "wdDTAmHQxThe"
      },
      "source": [
        "#### Шаг 1: метод `describe()` в библиотеке pandas.\n",
        "Библиотека pandas включает в себя метод `describe()`, который выполняет одни и те же общие вычисления на предложенном наборе данных. Помимо базовых операций таких, как подсчёт, расчёт среднего значения, расчёт среднеквадратического отклонения, расчёт минимума, и максимума,  `describe()` также отличный способ быстро проверить достоверность значений в кадре данных.<p>\n",
        "Ниже используйте функцию describe, для вывода статистики по данным"
      ]
    },
    {
      "cell_type": "code",
      "execution_count": 10,
      "metadata": {
        "colab": {
          "base_uri": "https://localhost:8080/",
          "height": 300
        },
        "id": "_u2jHY9mxThe",
        "outputId": "71f564da-8d14-47fc-b48c-5c0cc8b68a45"
      },
      "outputs": [
        {
          "data": {
            "application/vnd.google.colaboratory.intrinsic+json": {
              "summary": "{\n  \"name\": \"brainFrame\",\n  \"rows\": 8,\n  \"fields\": [\n    {\n      \"column\": \"FSIQ\",\n      \"properties\": {\n        \"dtype\": \"number\",\n        \"std\": 43.42681534022443,\n        \"min\": 24.08207121171586,\n        \"max\": 144.0,\n        \"num_unique_values\": 8,\n        \"samples\": [\n          113.45,\n          116.5,\n          40.0\n        ],\n        \"semantic_type\": \"\",\n        \"description\": \"\"\n      }\n    },\n    {\n      \"column\": \"VIQ\",\n      \"properties\": {\n        \"dtype\": \"number\",\n        \"std\": 43.85789699112125,\n        \"min\": 23.616107063199735,\n        \"max\": 150.0,\n        \"num_unique_values\": 8,\n        \"samples\": [\n          112.35,\n          113.0,\n          40.0\n        ],\n        \"semantic_type\": \"\",\n        \"description\": \"\"\n      }\n    },\n    {\n      \"column\": \"PIQ\",\n      \"properties\": {\n        \"dtype\": \"number\",\n        \"std\": 43.9034388472387,\n        \"min\": 22.471049751248312,\n        \"max\": 150.0,\n        \"num_unique_values\": 8,\n        \"samples\": [\n          111.025,\n          115.0,\n          40.0\n        ],\n        \"semantic_type\": \"\",\n        \"description\": \"\"\n      }\n    },\n    {\n      \"column\": \"Weight\",\n      \"properties\": {\n        \"dtype\": \"number\",\n        \"std\": 60.969764844952266,\n        \"min\": 23.478509286005146,\n        \"max\": 192.0,\n        \"num_unique_values\": 8,\n        \"samples\": [\n          151.05263157894737,\n          146.5,\n          38.0\n        ],\n        \"semantic_type\": \"\",\n        \"description\": \"\"\n      }\n    },\n    {\n      \"column\": \"Height\",\n      \"properties\": {\n        \"dtype\": \"number\",\n        \"std\": 24.129228468722946,\n        \"min\": 3.99464891736551,\n        \"max\": 77.0,\n        \"num_unique_values\": 8,\n        \"samples\": [\n          68.52564102564102,\n          68.0,\n          39.0\n        ],\n        \"semantic_type\": \"\",\n        \"description\": \"\"\n      }\n    },\n    {\n      \"column\": \"MRI_Count\",\n      \"properties\": {\n        \"dtype\": \"number\",\n        \"std\": 415535.04100749176,\n        \"min\": 40.0,\n        \"max\": 1079549.0,\n        \"num_unique_values\": 8,\n        \"samples\": [\n          908755.0,\n          905399.0,\n          40.0\n        ],\n        \"semantic_type\": \"\",\n        \"description\": \"\"\n      }\n    }\n  ]\n}",
              "type": "dataframe"
            },
            "text/html": [
              "\n",
              "  <div id=\"df-3f1e0dd2-47de-40d6-9ec6-3983a0fb8ce4\" class=\"colab-df-container\">\n",
              "    <div>\n",
              "<style scoped>\n",
              "    .dataframe tbody tr th:only-of-type {\n",
              "        vertical-align: middle;\n",
              "    }\n",
              "\n",
              "    .dataframe tbody tr th {\n",
              "        vertical-align: top;\n",
              "    }\n",
              "\n",
              "    .dataframe thead th {\n",
              "        text-align: right;\n",
              "    }\n",
              "</style>\n",
              "<table border=\"1\" class=\"dataframe\">\n",
              "  <thead>\n",
              "    <tr style=\"text-align: right;\">\n",
              "      <th></th>\n",
              "      <th>FSIQ</th>\n",
              "      <th>VIQ</th>\n",
              "      <th>PIQ</th>\n",
              "      <th>Weight</th>\n",
              "      <th>Height</th>\n",
              "      <th>MRI_Count</th>\n",
              "    </tr>\n",
              "  </thead>\n",
              "  <tbody>\n",
              "    <tr>\n",
              "      <th>count</th>\n",
              "      <td>40.000000</td>\n",
              "      <td>40.000000</td>\n",
              "      <td>40.00000</td>\n",
              "      <td>38.000000</td>\n",
              "      <td>39.000000</td>\n",
              "      <td>4.000000e+01</td>\n",
              "    </tr>\n",
              "    <tr>\n",
              "      <th>mean</th>\n",
              "      <td>113.450000</td>\n",
              "      <td>112.350000</td>\n",
              "      <td>111.02500</td>\n",
              "      <td>151.052632</td>\n",
              "      <td>68.525641</td>\n",
              "      <td>9.087550e+05</td>\n",
              "    </tr>\n",
              "    <tr>\n",
              "      <th>std</th>\n",
              "      <td>24.082071</td>\n",
              "      <td>23.616107</td>\n",
              "      <td>22.47105</td>\n",
              "      <td>23.478509</td>\n",
              "      <td>3.994649</td>\n",
              "      <td>7.228205e+04</td>\n",
              "    </tr>\n",
              "    <tr>\n",
              "      <th>min</th>\n",
              "      <td>77.000000</td>\n",
              "      <td>71.000000</td>\n",
              "      <td>72.00000</td>\n",
              "      <td>106.000000</td>\n",
              "      <td>62.000000</td>\n",
              "      <td>7.906190e+05</td>\n",
              "    </tr>\n",
              "    <tr>\n",
              "      <th>25%</th>\n",
              "      <td>89.750000</td>\n",
              "      <td>90.000000</td>\n",
              "      <td>88.25000</td>\n",
              "      <td>135.250000</td>\n",
              "      <td>66.000000</td>\n",
              "      <td>8.559185e+05</td>\n",
              "    </tr>\n",
              "    <tr>\n",
              "      <th>50%</th>\n",
              "      <td>116.500000</td>\n",
              "      <td>113.000000</td>\n",
              "      <td>115.00000</td>\n",
              "      <td>146.500000</td>\n",
              "      <td>68.000000</td>\n",
              "      <td>9.053990e+05</td>\n",
              "    </tr>\n",
              "    <tr>\n",
              "      <th>75%</th>\n",
              "      <td>135.500000</td>\n",
              "      <td>129.750000</td>\n",
              "      <td>128.00000</td>\n",
              "      <td>172.000000</td>\n",
              "      <td>70.500000</td>\n",
              "      <td>9.500780e+05</td>\n",
              "    </tr>\n",
              "    <tr>\n",
              "      <th>max</th>\n",
              "      <td>144.000000</td>\n",
              "      <td>150.000000</td>\n",
              "      <td>150.00000</td>\n",
              "      <td>192.000000</td>\n",
              "      <td>77.000000</td>\n",
              "      <td>1.079549e+06</td>\n",
              "    </tr>\n",
              "  </tbody>\n",
              "</table>\n",
              "</div>\n",
              "    <div class=\"colab-df-buttons\">\n",
              "\n",
              "  <div class=\"colab-df-container\">\n",
              "    <button class=\"colab-df-convert\" onclick=\"convertToInteractive('df-3f1e0dd2-47de-40d6-9ec6-3983a0fb8ce4')\"\n",
              "            title=\"Convert this dataframe to an interactive table.\"\n",
              "            style=\"display:none;\">\n",
              "\n",
              "  <svg xmlns=\"http://www.w3.org/2000/svg\" height=\"24px\" viewBox=\"0 -960 960 960\">\n",
              "    <path d=\"M120-120v-720h720v720H120Zm60-500h600v-160H180v160Zm220 220h160v-160H400v160Zm0 220h160v-160H400v160ZM180-400h160v-160H180v160Zm440 0h160v-160H620v160ZM180-180h160v-160H180v160Zm440 0h160v-160H620v160Z\"/>\n",
              "  </svg>\n",
              "    </button>\n",
              "\n",
              "  <style>\n",
              "    .colab-df-container {\n",
              "      display:flex;\n",
              "      gap: 12px;\n",
              "    }\n",
              "\n",
              "    .colab-df-convert {\n",
              "      background-color: #E8F0FE;\n",
              "      border: none;\n",
              "      border-radius: 50%;\n",
              "      cursor: pointer;\n",
              "      display: none;\n",
              "      fill: #1967D2;\n",
              "      height: 32px;\n",
              "      padding: 0 0 0 0;\n",
              "      width: 32px;\n",
              "    }\n",
              "\n",
              "    .colab-df-convert:hover {\n",
              "      background-color: #E2EBFA;\n",
              "      box-shadow: 0px 1px 2px rgba(60, 64, 67, 0.3), 0px 1px 3px 1px rgba(60, 64, 67, 0.15);\n",
              "      fill: #174EA6;\n",
              "    }\n",
              "\n",
              "    .colab-df-buttons div {\n",
              "      margin-bottom: 4px;\n",
              "    }\n",
              "\n",
              "    [theme=dark] .colab-df-convert {\n",
              "      background-color: #3B4455;\n",
              "      fill: #D2E3FC;\n",
              "    }\n",
              "\n",
              "    [theme=dark] .colab-df-convert:hover {\n",
              "      background-color: #434B5C;\n",
              "      box-shadow: 0px 1px 3px 1px rgba(0, 0, 0, 0.15);\n",
              "      filter: drop-shadow(0px 1px 2px rgba(0, 0, 0, 0.3));\n",
              "      fill: #FFFFFF;\n",
              "    }\n",
              "  </style>\n",
              "\n",
              "    <script>\n",
              "      const buttonEl =\n",
              "        document.querySelector('#df-3f1e0dd2-47de-40d6-9ec6-3983a0fb8ce4 button.colab-df-convert');\n",
              "      buttonEl.style.display =\n",
              "        google.colab.kernel.accessAllowed ? 'block' : 'none';\n",
              "\n",
              "      async function convertToInteractive(key) {\n",
              "        const element = document.querySelector('#df-3f1e0dd2-47de-40d6-9ec6-3983a0fb8ce4');\n",
              "        const dataTable =\n",
              "          await google.colab.kernel.invokeFunction('convertToInteractive',\n",
              "                                                    [key], {});\n",
              "        if (!dataTable) return;\n",
              "\n",
              "        const docLinkHtml = 'Like what you see? Visit the ' +\n",
              "          '<a target=\"_blank\" href=https://colab.research.google.com/notebooks/data_table.ipynb>data table notebook</a>'\n",
              "          + ' to learn more about interactive tables.';\n",
              "        element.innerHTML = '';\n",
              "        dataTable['output_type'] = 'display_data';\n",
              "        await google.colab.output.renderOutput(dataTable, element);\n",
              "        const docLink = document.createElement('div');\n",
              "        docLink.innerHTML = docLinkHtml;\n",
              "        element.appendChild(docLink);\n",
              "      }\n",
              "    </script>\n",
              "  </div>\n",
              "\n",
              "\n",
              "<div id=\"df-a593b5ee-7443-4b4b-becd-71e0228fdee8\">\n",
              "  <button class=\"colab-df-quickchart\" onclick=\"quickchart('df-a593b5ee-7443-4b4b-becd-71e0228fdee8')\"\n",
              "            title=\"Suggest charts\"\n",
              "            style=\"display:none;\">\n",
              "\n",
              "<svg xmlns=\"http://www.w3.org/2000/svg\" height=\"24px\"viewBox=\"0 0 24 24\"\n",
              "     width=\"24px\">\n",
              "    <g>\n",
              "        <path d=\"M19 3H5c-1.1 0-2 .9-2 2v14c0 1.1.9 2 2 2h14c1.1 0 2-.9 2-2V5c0-1.1-.9-2-2-2zM9 17H7v-7h2v7zm4 0h-2V7h2v10zm4 0h-2v-4h2v4z\"/>\n",
              "    </g>\n",
              "</svg>\n",
              "  </button>\n",
              "\n",
              "<style>\n",
              "  .colab-df-quickchart {\n",
              "      --bg-color: #E8F0FE;\n",
              "      --fill-color: #1967D2;\n",
              "      --hover-bg-color: #E2EBFA;\n",
              "      --hover-fill-color: #174EA6;\n",
              "      --disabled-fill-color: #AAA;\n",
              "      --disabled-bg-color: #DDD;\n",
              "  }\n",
              "\n",
              "  [theme=dark] .colab-df-quickchart {\n",
              "      --bg-color: #3B4455;\n",
              "      --fill-color: #D2E3FC;\n",
              "      --hover-bg-color: #434B5C;\n",
              "      --hover-fill-color: #FFFFFF;\n",
              "      --disabled-bg-color: #3B4455;\n",
              "      --disabled-fill-color: #666;\n",
              "  }\n",
              "\n",
              "  .colab-df-quickchart {\n",
              "    background-color: var(--bg-color);\n",
              "    border: none;\n",
              "    border-radius: 50%;\n",
              "    cursor: pointer;\n",
              "    display: none;\n",
              "    fill: var(--fill-color);\n",
              "    height: 32px;\n",
              "    padding: 0;\n",
              "    width: 32px;\n",
              "  }\n",
              "\n",
              "  .colab-df-quickchart:hover {\n",
              "    background-color: var(--hover-bg-color);\n",
              "    box-shadow: 0 1px 2px rgba(60, 64, 67, 0.3), 0 1px 3px 1px rgba(60, 64, 67, 0.15);\n",
              "    fill: var(--button-hover-fill-color);\n",
              "  }\n",
              "\n",
              "  .colab-df-quickchart-complete:disabled,\n",
              "  .colab-df-quickchart-complete:disabled:hover {\n",
              "    background-color: var(--disabled-bg-color);\n",
              "    fill: var(--disabled-fill-color);\n",
              "    box-shadow: none;\n",
              "  }\n",
              "\n",
              "  .colab-df-spinner {\n",
              "    border: 2px solid var(--fill-color);\n",
              "    border-color: transparent;\n",
              "    border-bottom-color: var(--fill-color);\n",
              "    animation:\n",
              "      spin 1s steps(1) infinite;\n",
              "  }\n",
              "\n",
              "  @keyframes spin {\n",
              "    0% {\n",
              "      border-color: transparent;\n",
              "      border-bottom-color: var(--fill-color);\n",
              "      border-left-color: var(--fill-color);\n",
              "    }\n",
              "    20% {\n",
              "      border-color: transparent;\n",
              "      border-left-color: var(--fill-color);\n",
              "      border-top-color: var(--fill-color);\n",
              "    }\n",
              "    30% {\n",
              "      border-color: transparent;\n",
              "      border-left-color: var(--fill-color);\n",
              "      border-top-color: var(--fill-color);\n",
              "      border-right-color: var(--fill-color);\n",
              "    }\n",
              "    40% {\n",
              "      border-color: transparent;\n",
              "      border-right-color: var(--fill-color);\n",
              "      border-top-color: var(--fill-color);\n",
              "    }\n",
              "    60% {\n",
              "      border-color: transparent;\n",
              "      border-right-color: var(--fill-color);\n",
              "    }\n",
              "    80% {\n",
              "      border-color: transparent;\n",
              "      border-right-color: var(--fill-color);\n",
              "      border-bottom-color: var(--fill-color);\n",
              "    }\n",
              "    90% {\n",
              "      border-color: transparent;\n",
              "      border-bottom-color: var(--fill-color);\n",
              "    }\n",
              "  }\n",
              "</style>\n",
              "\n",
              "  <script>\n",
              "    async function quickchart(key) {\n",
              "      const quickchartButtonEl =\n",
              "        document.querySelector('#' + key + ' button');\n",
              "      quickchartButtonEl.disabled = true;  // To prevent multiple clicks.\n",
              "      quickchartButtonEl.classList.add('colab-df-spinner');\n",
              "      try {\n",
              "        const charts = await google.colab.kernel.invokeFunction(\n",
              "            'suggestCharts', [key], {});\n",
              "      } catch (error) {\n",
              "        console.error('Error during call to suggestCharts:', error);\n",
              "      }\n",
              "      quickchartButtonEl.classList.remove('colab-df-spinner');\n",
              "      quickchartButtonEl.classList.add('colab-df-quickchart-complete');\n",
              "    }\n",
              "    (() => {\n",
              "      let quickchartButtonEl =\n",
              "        document.querySelector('#df-a593b5ee-7443-4b4b-becd-71e0228fdee8 button');\n",
              "      quickchartButtonEl.style.display =\n",
              "        google.colab.kernel.accessAllowed ? 'block' : 'none';\n",
              "    })();\n",
              "  </script>\n",
              "</div>\n",
              "    </div>\n",
              "  </div>\n"
            ],
            "text/plain": [
              "             FSIQ         VIQ        PIQ      Weight     Height     MRI_Count\n",
              "count   40.000000   40.000000   40.00000   38.000000  39.000000  4.000000e+01\n",
              "mean   113.450000  112.350000  111.02500  151.052632  68.525641  9.087550e+05\n",
              "std     24.082071   23.616107   22.47105   23.478509   3.994649  7.228205e+04\n",
              "min     77.000000   71.000000   72.00000  106.000000  62.000000  7.906190e+05\n",
              "25%     89.750000   90.000000   88.25000  135.250000  66.000000  8.559185e+05\n",
              "50%    116.500000  113.000000  115.00000  146.500000  68.000000  9.053990e+05\n",
              "75%    135.500000  129.750000  128.00000  172.000000  70.500000  9.500780e+05\n",
              "max    144.000000  150.000000  150.00000  192.000000  77.000000  1.079549e+06"
            ]
          },
          "execution_count": 10,
          "metadata": {},
          "output_type": "execute_result"
        }
      ],
      "source": [
        "brainFrame = pd.read_csv(\"brainsize.txt\", delimiter='\\t')\n",
        "brainFrame.describe()"
      ]
    },
    {
      "cell_type": "markdown",
      "metadata": {
        "id": "o5BsMxnsxThe"
      },
      "source": [
        "#### Шаг 2: Диаграммы рассеяния\n",
        "\n",
        "Диаграммы рассеяния важны при работе с корреляциями, поскольку они позволяют быстро визуально проверить природу связи между переменными. В этой лабораторной работе используется коэффициент корреляции Пирсона, который чувствителен только к линейной зависимости между двумя переменными. Также существуют другие более надежные методы корреляции, но они выходят за рамки этой лабораторной работы.\n",
        "\n",
        "##### a. Загрузите необходимые модули.\n",
        "Прежде чем строить графики, необходимо импортировать несколько модулей, а именно `numpy` и `matplotlib`. Запустите ячейку ниже, чтобы загрузить эти модули."
      ]
    },
    {
      "cell_type": "code",
      "execution_count": 11,
      "metadata": {
        "id": "n3-qVL2bxThe"
      },
      "outputs": [],
      "source": [
        "import numpy as np\n",
        "import matplotlib.pyplot as plt"
      ]
    },
    {
      "cell_type": "markdown",
      "metadata": {
        "id": "VKaXZI1zxThe"
      },
      "source": [
        "##### b. Разделите данные.\n",
        "Чтобы гарантировать, что результаты не будут искажены из-за различий в мужских и женских телах, кадр данных разбит на два: один содержит все мужские записи, а другой - только женские экземпляры. <p>\n",
        "Создайте два новых кадра данных: menDf и womenDf, каждый из которых содержит соответствующие записи."
      ]
    },
    {
      "cell_type": "code",
      "execution_count": 14,
      "metadata": {
        "colab": {
          "base_uri": "https://localhost:8080/"
        },
        "id": "a10XdaeRxThe",
        "outputId": "2de438d5-1c72-460b-aeeb-ac2327f57916"
      },
      "outputs": [
        {
          "name": "stdout",
          "output_type": "stream",
          "text": [
            "Фрейм данных menDf:\n",
            "Empty DataFrame\n",
            "Columns: [Gender, FSIQ, VIQ, PIQ, Weight, Height, MRI_Count]\n",
            "Index: []\n",
            "\n",
            "Фрейм данных womenDf:\n",
            "Empty DataFrame\n",
            "Columns: [Gender, FSIQ, VIQ, PIQ, Weight, Height, MRI_Count]\n",
            "Index: []\n"
          ]
        }
      ],
      "source": [
        "brainFrame = pd.read_csv(\"brainsize.txt\", delimiter='\\t')\n",
        "\n",
        "menDf = brainFrame[brainFrame['Gender'] == 1]\n",
        "womenDf = brainFrame[brainFrame['Gender'] == 2]\n",
        "\n",
        "print(\"Фрейм данных menDf:\")\n",
        "print(menDf.head())\n",
        "print(\"\\nФрейм данных womenDf:\")\n",
        "print(womenDf.head())\n"
      ]
    },
    {
      "cell_type": "markdown",
      "metadata": {
        "id": "a4Sf_Jx9xThf"
      },
      "source": [
        "##### c. Постройте графики.\n",
        "Поскольку набор данных включает в себя три различных измерения интеллекта (PIQ, FSIQ и VIQ), первая строка ниже использует метод `mean()` из библиотеки Pandas для вычисления среднего значения между тремя измерениями и сохранения результата в переменной `menMeanSmarts`. Обратите внимание, что первая строка относится к menDf, отфильтрованному кадру данных, содержащему только мужские записи.<p>\n",
        "Вторая строка использует метод `scatter()` библиотеки `matplotlib` для создания графика диаграммы рассеяния между переменной `menMeanSmarts` и атрибутом `MRI_Count`. MRI_Count в этом наборе данных можно рассматривать как меру физического размера мозга испытуемых.<p>\n",
        "Третья строка просто отображает график.<p>\n",
        "Четвертая строка используется для гарантированного отображения графика в этом блокноте."
      ]
    },
    {
      "cell_type": "code",
      "execution_count": 18,
      "metadata": {
        "colab": {
          "base_uri": "https://localhost:8080/",
          "height": 472
        },
        "id": "oomKowdDxThf",
        "outputId": "1217894f-8257-4b21-e349-bd464c021f2e"
      },
      "outputs": [
        {
          "data": {
            "image/png": "[encoded data removed]",
            "text/plain": [
              "<Figure size 640x480 with 1 Axes>"
            ]
          },
          "metadata": {},
          "output_type": "display_data"
        }
      ],
      "source": [
        "brainFrame = pd.read_csv(\"brainsize.txt\", delimiter='\\t')\n",
        "menDf = brainFrame[brainFrame['Gender'] == 1]\n",
        "womenDf = brainFrame[brainFrame['Gender'] == 2]\n",
        "\n",
        "menMeanSmarts = menDf[[\"PIQ\", \"FSIQ\", \"VIQ\"]].mean(axis=1)\n",
        "plt.scatter(menMeanSmarts, menDf[\"MRI_Count\"])\n",
        "plt.xlabel(\"Средний IQ (мужчины)\")\n",
        "plt.ylabel(\"MRI Count (мужчины)\")\n",
        "plt.title(\"Зависимость среднего IQ от MRI Count для мужчин\")\n",
        "plt.show()\n"
      ]
    },
    {
      "cell_type": "markdown",
      "metadata": {
        "id": "_rU5mBBjxThf"
      },
      "source": [
        "Аналогичным образом создайте график диаграммы рассеяния для кадра данных, содержащему только женские записи."
      ]
    },
    {
      "cell_type": "code",
      "execution_count": 20,
      "metadata": {
        "colab": {
          "base_uri": "https://localhost:8080/",
          "height": 472
        },
        "id": "Yfk4_JJuxThf",
        "outputId": "4ab53276-c738-46db-9b0c-bc8799344789",
        "scrolled": true
      },
      "outputs": [
        {
          "data": {
            "image/png": "[encoded data removed]",
            "text/plain": [
              "<Figure size 640x480 with 1 Axes>"
            ]
          },
          "metadata": {},
          "output_type": "display_data"
        }
      ],
      "source": [
        "brainFrame = pd.read_csv(\"brainsize.txt\", delimiter='\\t')\n",
        "menDf = brainFrame[brainFrame['Gender'] == 1]\n",
        "womenDf = brainFrame[brainFrame['Gender'] == 2]\n",
        "\n",
        "womenMeanSmarts = womenDf[[\"PIQ\", \"FSIQ\", \"VIQ\"]].mean(axis=1)\n",
        "plt.scatter(womenMeanSmarts, womenDf[\"MRI_Count\"])\n",
        "plt.xlabel(\"Средний IQ (женщины)\")\n",
        "plt.ylabel(\"MRI Count (женщины)\")\n",
        "plt.title(\"Зависимость среднего IQ от MRI Count для женщин\")\n",
        "plt.show()\n"
      ]
    },
    {
      "cell_type": "markdown",
      "metadata": {
        "id": "TiF70jvMxThf"
      },
      "source": [
        "## Часть 3: Вычисление корреляции с Python\n"
      ]
    },
    {
      "cell_type": "markdown",
      "metadata": {
        "id": "qoQuJDBGxThg"
      },
      "source": [
        "#### Шаг 1: Рассчитайте корреляцию для brainFrame.\n",
        "Метод `corr()` библиотеки pandas обеспечивает простой способ вычисления корреляции для кадра данных. Просто применяя метод на кадре данных, можно получить корреляцию между всеми переменными одновременно."
      ]
    },
    {
      "cell_type": "code",
      "execution_count": 23,
      "metadata": {
        "colab": {
          "base_uri": "https://localhost:8080/"
        },
        "id": "dbKWtJ7RxThg",
        "outputId": "845a2ad2-ecf5-488e-e42b-4f68de741100"
      },
      "outputs": [
        {
          "name": "stdout",
          "output_type": "stream",
          "text": [
            "             Gender      FSIQ       VIQ       PIQ    Weight    Height  \\\n",
            "Gender     1.000000 -0.065183 -0.124362 -0.025914 -0.630277 -0.718307   \n",
            "FSIQ      -0.065183  1.000000  0.946639  0.934125 -0.051483 -0.086002   \n",
            "VIQ       -0.124362  0.946639  1.000000  0.778135 -0.076088 -0.071068   \n",
            "PIQ       -0.025914  0.934125  0.778135  1.000000  0.002512 -0.076723   \n",
            "Weight    -0.630277 -0.051483 -0.076088  0.002512  1.000000  0.699614   \n",
            "Height    -0.718307 -0.086002 -0.071068 -0.076723  0.699614  1.000000   \n",
            "MRI_Count -0.645910  0.357641  0.337478  0.386817  0.513378  0.601712   \n",
            "\n",
            "           MRI_Count  \n",
            "Gender     -0.645910  \n",
            "FSIQ        0.357641  \n",
            "VIQ         0.337478  \n",
            "PIQ         0.386817  \n",
            "Weight      0.513378  \n",
            "Height      0.601712  \n",
            "MRI_Count   1.000000  \n"
          ]
        },
        {
          "name": "stderr",
          "output_type": "stream",
          "text": [
            "<ipython-input-23-2fa957756fa8>:2: FutureWarning: Downcasting behavior in `replace` is deprecated and will be removed in a future version. To retain the old behavior, explicitly call `result.infer_objects(copy=False)`. To opt-in to the future behavior, set `pd.set_option('future.no_silent_downcasting', True)`\n",
            "  brainFrame['Gender'] = brainFrame['Gender'].replace({'Female': 2, 'Male': 1})\n"
          ]
        }
      ],
      "source": [
        "brainFrame = pd.read_csv(\"brainsize.txt\", delimiter='\\t')\n",
        "brainFrame['Gender'] = brainFrame['Gender'].replace({'Female': 2, 'Male': 1})\n",
        "\n",
        "correlationMatrix = brainFrame.corr(method='pearson')\n",
        "print(correlationMatrix)\n"
      ]
    },
    {
      "cell_type": "markdown",
      "metadata": {
        "id": "PauCadJ8xThg"
      },
      "source": [
        "Обратите внимание на диагональ слева направо в таблице корреляции, сгенерированной выше. Почему диагональ заполнена значениями 1? Это совпадение? Объясните."
      ]
    },
    {
      "cell_type": "markdown",
      "metadata": {
        "id": "SUU2zm5GxThg"
      },
      "source": [
        "Ответ: Это не совпадение. Диагональ заполнена значениями 1, потому что это корреляция каждой переменной с самой собой. Любая переменная идеально коррелирует с собой, поэтому коэффициент корреляции равен 1"
      ]
    },
    {
      "cell_type": "markdown",
      "metadata": {
        "id": "FwwO6GLsxThg"
      },
      "source": [
        "Продолжая смотреть на таблицу корреляции выше, обратите внимание, что значения зеркалируются; значения под диагональю имеют зеркальный аналог над ней. Это совпадение? Объясните."
      ]
    },
    {
      "cell_type": "markdown",
      "metadata": {
        "id": "oUrVjv2JxThh"
      },
      "source": [
        "Ответ: Это не совпадение. Матрица корреляции всегда симметрична относительно главной диагонали.  Это связано с тем, что корреляция между переменной X и переменной Y такая же, как корреляция между переменной Y и переменной X. corr(X, Y) == corr(Y, X)"
      ]
    },
    {
      "cell_type": "markdown",
      "metadata": {
        "id": "t43z_j14xThh"
      },
      "source": [
        "Используя тот же метод `corr()`, вычислите корреляцию переменных, содержащихся в кадре с женскими записями:"
      ]
    },
    {
      "cell_type": "code",
      "execution_count": 25,
      "metadata": {
        "colab": {
          "base_uri": "https://localhost:8080/"
        },
        "id": "gHi9qabjxThh",
        "outputId": "6168e0f1-47b2-4bd9-b105-9d7a66ca5be4"
      },
      "outputs": [
        {
          "name": "stdout",
          "output_type": "stream",
          "text": [
            "           Gender      FSIQ       VIQ       PIQ    Weight    Height  MRI_Count\n",
            "Gender        NaN       NaN       NaN       NaN       NaN       NaN        NaN\n",
            "FSIQ          NaN  1.000000  0.955717  0.939382  0.038192 -0.059011   0.325697\n",
            "VIQ           NaN  0.955717  1.000000  0.802652 -0.021889 -0.146453   0.254933\n",
            "PIQ           NaN  0.939382  0.802652  1.000000  0.113901 -0.001242   0.396157\n",
            "Weight        NaN  0.038192 -0.021889  0.113901  1.000000  0.552357   0.446271\n",
            "Height        NaN -0.059011 -0.146453 -0.001242  0.552357  1.000000   0.174541\n",
            "MRI_Count     NaN  0.325697  0.254933  0.396157  0.446271  0.174541   1.000000\n"
          ]
        },
        {
          "name": "stderr",
          "output_type": "stream",
          "text": [
            "<ipython-input-25-fa828474bddc>:3: FutureWarning: Downcasting behavior in `replace` is deprecated and will be removed in a future version. To retain the old behavior, explicitly call `result.infer_objects(copy=False)`. To opt-in to the future behavior, set `pd.set_option('future.no_silent_downcasting', True)`\n",
            "  brainFrame['Gender'] = brainFrame['Gender'].replace({'Female': 2, 'Male': 1})\n"
          ]
        }
      ],
      "source": [
        "brainFrame = pd.read_csv(\"brainsize.txt\", delimiter='\\t')\n",
        "\n",
        "brainFrame['Gender'] = brainFrame['Gender'].replace({'Female': 2, 'Male': 1})\n",
        "womenDf = brainFrame[brainFrame['Gender'] == 2]\n",
        "correlationMatrixWomen = womenDf.corr(method='pearson')\n",
        "print(correlationMatrixWomen)\n"
      ]
    },
    {
      "cell_type": "markdown",
      "metadata": {
        "id": "GdHdBKYExThh"
      },
      "source": [
        "И то же самое можно сделать для переменных, содержащихся в кадре с мужскими записями:"
      ]
    },
    {
      "cell_type": "code",
      "execution_count": 27,
      "metadata": {
        "colab": {
          "base_uri": "https://localhost:8080/"
        },
        "id": "bs-00O8HxThi",
        "outputId": "df025b72-52fa-47af-9348-aa64434469bd"
      },
      "outputs": [
        {
          "name": "stdout",
          "output_type": "stream",
          "text": [
            "           Gender      FSIQ       VIQ       PIQ    Weight    Height  MRI_Count\n",
            "Gender        NaN       NaN       NaN       NaN       NaN       NaN        NaN\n",
            "FSIQ          NaN  1.000000  0.944400  0.930694 -0.278140 -0.356110   0.498369\n",
            "VIQ           NaN  0.944400  1.000000  0.766021 -0.350453 -0.355588   0.413105\n",
            "PIQ           NaN  0.930694  0.766021  1.000000 -0.156863 -0.287676   0.568237\n",
            "Weight        NaN -0.278140 -0.350453 -0.156863  1.000000  0.406542  -0.076875\n",
            "Height        NaN -0.356110 -0.355588 -0.287676  0.406542  1.000000   0.301543\n",
            "MRI_Count     NaN  0.498369  0.413105  0.568237 -0.076875  0.301543   1.000000\n"
          ]
        },
        {
          "name": "stderr",
          "output_type": "stream",
          "text": [
            "<ipython-input-27-2df75c3433f0>:3: FutureWarning: Downcasting behavior in `replace` is deprecated and will be removed in a future version. To retain the old behavior, explicitly call `result.infer_objects(copy=False)`. To opt-in to the future behavior, set `pd.set_option('future.no_silent_downcasting', True)`\n",
            "  brainFrame['Gender'] = brainFrame['Gender'].replace({'Female': 2, 'Male': 1})\n"
          ]
        }
      ],
      "source": [
        "brainFrame = pd.read_csv(\"brainsize.txt\", delimiter='\\t')\n",
        "\n",
        "brainFrame['Gender'] = brainFrame['Gender'].replace({'Female': 2, 'Male': 1})\n",
        "menDf = brainFrame[brainFrame['Gender'] == 1]\n",
        "correlationMatrixMen = menDf.corr(method='pearson')\n",
        "print(correlationMatrixMen)\n"
      ]
    },
    {
      "cell_type": "markdown",
      "metadata": {
        "id": "3oP5a1OvxThi"
      },
      "source": [
        "## Часть 4: Визуализация"
      ]
    },
    {
      "cell_type": "markdown",
      "metadata": {
        "id": "B3Bv3toPxThi"
      },
      "source": [
        "#### Шаг 1: Установите Seaborn.\n",
        "Чтобы упростить визуализацию корреляций данных, можно использовать тепловую карту. На основе цветных квадратов тепловая карта может помочь выявить корреляции с первого взгляда.\n",
        "\n",
        "Модуль Python с именем `seaborn` очень упрощает построение тепловых карт.\n",
        "\n",
        "Сначала запустите ячейку ниже, чтобы загрузить и установить модуль `seaborn`. (закомментируйте, если библиотека установлена)"
      ]
    },
    {
      "cell_type": "code",
      "execution_count": null,
      "metadata": {
        "id": "lxalR8wGxThi"
      },
      "outputs": [],
      "source": [
        "# Ячейка для кода № 11\n",
        "!pip install seaborn"
      ]
    },
    {
      "cell_type": "markdown",
      "metadata": {
        "id": "OBUom3KtxThj"
      },
      "source": [
        "#### Шаг 2: Нарисуйте корреляционную тепловую карту.\n",
        "\n",
        "Теперь, когда кадры данных готовы, можно отобразить тепловые карты. Далее приведен анализ кода из ячейки ниже:\n",
        "\n",
        "Строка 1: Создает таблицу корреляции, основанную на фрейме данных `womenNoGenderDf` и хранит его в `wcorr`.<br>\n",
        "Строка 2: Использует метод `heatmap()` библиотеки `seaborn` для генерации и построения тепловой карты. Обратите внимание, что `heatmap()` принимает `wcorr`, как параметр.<br>\n",
        "Строка 3: используется для экспорта и сохранения созданной тепловой карты в виде PNG-изображения. Хотя строка 3 не активна (перед ней стоит символ `#`, заставляя интерпретатор игнорировать ее), она сохранена в информационных целях."
      ]
    },
    {
      "cell_type": "code",
      "execution_count": 29,
      "metadata": {
        "colab": {
          "base_uri": "https://localhost:8080/",
          "height": 567
        },
        "id": "p9J5r0GcxThj",
        "outputId": "d3a2d325-e90a-4e66-b0ff-25cecaa20af6"
      },
      "outputs": [
        {
          "name": "stderr",
          "output_type": "stream",
          "text": [
            "<ipython-input-29-695baedc86dc>:5: FutureWarning: Downcasting behavior in `replace` is deprecated and will be removed in a future version. To retain the old behavior, explicitly call `result.infer_objects(copy=False)`. To opt-in to the future behavior, set `pd.set_option('future.no_silent_downcasting', True)`\n",
            "  brainFrame['Gender'] = brainFrame['Gender'].replace({'Female': 2, 'Male': 1})\n"
          ]
        },
        {
          "data": {
            "image/png": "[encoded data removed]",
            "text/plain": [
              "<Figure size 640x480 with 2 Axes>"
            ]
          },
          "metadata": {},
          "output_type": "display_data"
        }
      ],
      "source": [
        "import seaborn as sns\n",
        "\n",
        "brainFrame = pd.read_csv(\"brainsize.txt\", delimiter='\\t')\n",
        "\n",
        "brainFrame['Gender'] = brainFrame['Gender'].replace({'Female': 2, 'Male': 1})\n",
        "\n",
        "womenDf = brainFrame[brainFrame['Gender'] == 2]\n",
        "\n",
        "wcorr = womenDf.corr()\n",
        "sns.heatmap(wcorr, annot=True, cmap=\"coolwarm\")\n",
        "plt.title(\"Корреляционная тепловая карта для женщин\")\n",
        "plt.show()"
      ]
    },
    {
      "cell_type": "markdown",
      "metadata": {
        "id": "NNRrAVIBxThk"
      },
      "source": [
        "Аналогичным образом создайте и отобразите тепловую карту для кадра данных с мужчинами."
      ]
    },
    {
      "cell_type": "code",
      "execution_count": 30,
      "metadata": {
        "colab": {
          "base_uri": "https://localhost:8080/",
          "height": 567
        },
        "id": "1EXHkn1lxThk",
        "outputId": "7dca74f0-280c-435e-d003-6570188d5f18"
      },
      "outputs": [
        {
          "name": "stderr",
          "output_type": "stream",
          "text": [
            "<ipython-input-30-36611ed3f82f>:3: FutureWarning: Downcasting behavior in `replace` is deprecated and will be removed in a future version. To retain the old behavior, explicitly call `result.infer_objects(copy=False)`. To opt-in to the future behavior, set `pd.set_option('future.no_silent_downcasting', True)`\n",
            "  brainFrame['Gender'] = brainFrame['Gender'].replace({'Female': 2, 'Male': 1})\n"
          ]
        },
        {
          "data": {
            "image/png": "[encoded data removed]",
            "text/plain": [
              "<Figure size 640x480 with 2 Axes>"
            ]
          },
          "metadata": {},
          "output_type": "display_data"
        }
      ],
      "source": [
        "brainFrame = pd.read_csv(\"brainsize.txt\", delimiter='\\t')\n",
        "\n",
        "brainFrame['Gender'] = brainFrame['Gender'].replace({'Female': 2, 'Male': 1})\n",
        "\n",
        "menDf = brainFrame[brainFrame['Gender'] == 1]\n",
        "mcorr = menDf.corr()\n",
        "sns.heatmap(mcorr, annot=True, cmap=\"coolwarm\")\n",
        "plt.title(\"Корреляционная тепловая карта для мужчин\")\n",
        "plt.show()"
      ]
    },
    {
      "cell_type": "markdown",
      "metadata": {
        "id": "p4iL2QvmxThk"
      },
      "source": [
        "У многих пар переменных корреляция близка к нулю. Что это значит?"
      ]
    },
    {
      "cell_type": "markdown",
      "metadata": {
        "id": "ZY3xknPIxThl"
      },
      "source": [
        "Ответ: между этими переменными нет линейной связи"
      ]
    },
    {
      "cell_type": "markdown",
      "metadata": {
        "id": "2faVqrimxThl"
      },
      "source": [
        "Зачем делать разделение по полу?"
      ]
    },
    {
      "cell_type": "markdown",
      "metadata": {
        "id": "RWESxJBVxThl"
      },
      "source": [
        "Ответ: Чтобы учесть возможные различия в структуре мозга и интеллекте между мужчинами и женщинами"
      ]
    },
    {
      "cell_type": "markdown",
      "metadata": {
        "id": "mHuti5spxThl"
      },
      "source": [
        "Какие переменные имеют более сильную корреляцию с размером мозга (MRI_Count)? Это ожидалось? Объясните."
      ]
    },
    {
      "cell_type": "markdown",
      "metadata": {
        "id": "DWYCxIv1xThl"
      },
      "source": [
        "Ответ: PIQ, FSIQ, VIQ имеют некоторую положительную корреляцию с размером мозга (MRI_Count).\n",
        "На мой взгляд это ожидалось, смею предположить, что больший мозг может быть связан с более высоким интеллектом"
      ]
    }
  ],
  "metadata": {
    "anaconda-cloud": {},
    "colab": {
      "provenance": []
    },
    "kernelspec": {
      "display_name": "Python 3 (ipykernel)",
      "language": "python",
      "name": "python3"
    },
    "language_info": {
      "codemirror_mode": {
        "name": "ipython",
        "version": 3
      },
      "file_extension": ".py",
      "mimetype": "text/x-python",
      "name": "python",
      "nbconvert_exporter": "python",
      "pygments_lexer": "ipython3",
      "version": "3.11.5"
    }
  },
  "nbformat": 4,
  "nbformat_minor": 0
}
