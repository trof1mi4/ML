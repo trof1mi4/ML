{
  "cells": [
    {
      "cell_type": "markdown",
      "id": "64d44da9-558f-4634-9de8-de0f46f93cfe",
      "metadata": {
        "id": "64d44da9-558f-4634-9de8-de0f46f93cfe"
      },
      "source": [
        "## Часть 1: Введение в Pandas\n",
        "\n",
        "Pandas - это библиотека Python для работы с данными. Она предоставляет мощные инструменты для анализа и манипуляции данными.\n",
        "\n",
        "### Установка Pandas\n",
        "\n",
        "Для начала убедитесь, что у вас установлена библиотека Pandas. Если ее нет, установите ее с помощью команды:\n"
      ]
    },
    {
      "cell_type": "code",
      "execution_count": null,
      "id": "7484df51-b002-414c-ae42-75a2df57c78d",
      "metadata": {
        "id": "7484df51-b002-414c-ae42-75a2df57c78d"
      },
      "outputs": [],
      "source": [
        "!pip install pandas"
      ]
    },
    {
      "cell_type": "markdown",
      "id": "4b655e29-c3a5-4117-9860-2d6b9af62ac1",
      "metadata": {
        "id": "4b655e29-c3a5-4117-9860-2d6b9af62ac1"
      },
      "source": [
        "## Импорт библиотеки\n",
        "Давайте начнем с импорта библиотеки Pandas:"
      ]
    },
    {
      "cell_type": "code",
      "execution_count": null,
      "id": "bfc3346f-3843-4aff-aec0-54321b9774f0",
      "metadata": {
        "tags": [],
        "id": "bfc3346f-3843-4aff-aec0-54321b9774f0"
      },
      "outputs": [],
      "source": [
        "import pandas as pd"
      ]
    },
    {
      "cell_type": "markdown",
      "id": "ea8530e9-c179-48c1-8043-ff87f415ee67",
      "metadata": {
        "id": "ea8530e9-c179-48c1-8043-ff87f415ee67"
      },
      "source": [
        "## Часть 2: Работа с данными\n",
        "### Чтение данных\n",
        "Мы будем использовать датасет Titanic. Давайте прочитаем данные из CSV файла."
      ]
    },
    {
      "cell_type": "code",
      "execution_count": 6,
      "id": "fa5deec6-c85e-4d88-89df-bea7d75fcbba",
      "metadata": {
        "colab": {
          "base_uri": "https://localhost:8080/"
        },
        "id": "fa5deec6-c85e-4d88-89df-bea7d75fcbba",
        "outputId": "70a43454-7a5d-43b8-c79b-d10e17fa0351"
      },
      "outputs": [
        {
          "output_type": "stream",
          "name": "stdout",
          "text": [
            "Файл прочитан\n"
          ]
        }
      ],
      "source": [
        "titanic_df = pd.read_csv('titanic.csv')\n",
        "print(\"Файл прочитан\")\n"
      ]
    },
    {
      "cell_type": "markdown",
      "id": "07dfd488-4960-495e-80d8-9cf5903449b6",
      "metadata": {
        "id": "07dfd488-4960-495e-80d8-9cf5903449b6"
      },
      "source": [
        "### Предпросмотр данных\n",
        "Для первого ознакомления с данными давайте выведем первые несколько строк."
      ]
    },
    {
      "cell_type": "code",
      "execution_count": 23,
      "id": "216e104c-259f-4ecd-9cd4-40362f61ca4e",
      "metadata": {
        "colab": {
          "base_uri": "https://localhost:8080/"
        },
        "id": "216e104c-259f-4ecd-9cd4-40362f61ca4e",
        "outputId": "533b213c-fd09-4efe-8f91-f4a979fe2748"
      },
      "outputs": [
        {
          "output_type": "stream",
          "name": "stdout",
          "text": [
            "   PassengerId  Survived  Pclass  \\\n",
            "0            1         0       3   \n",
            "1            2         1       1   \n",
            "2            3         1       3   \n",
            "3            4         1       1   \n",
            "4            5         0       3   \n",
            "\n",
            "                                                Name     Sex   Age  SibSp  \\\n",
            "0                            Braund, Mr. Owen Harris    male  22.0      1   \n",
            "1  Cumings, Mrs. John Bradley (Florence Briggs Th...  female  38.0      1   \n",
            "2                             Heikkinen, Miss. Laina  female  26.0      0   \n",
            "3       Futrelle, Mrs. Jacques Heath (Lily May Peel)  female  35.0      1   \n",
            "4                           Allen, Mr. William Henry    male  35.0      0   \n",
            "\n",
            "   Parch            Ticket     Fare Cabin Embarked  \n",
            "0      0         A/5 21171   7.2500   NaN        S  \n",
            "1      0          PC 17599  71.2833   C85        C  \n",
            "2      0  STON/O2. 3101282   7.9250   NaN        S  \n",
            "3      0            113803  53.1000  C123        S  \n",
            "4      0            373450   8.0500   NaN        S  \n"
          ]
        }
      ],
      "source": [
        "titanic_df = pd.read_csv('titanic.csv')\n",
        "print(titanic_df.head())\n"
      ]
    },
    {
      "cell_type": "markdown",
      "id": "b7ba5f57-07e1-4c0f-9b55-9d78638ee2cc",
      "metadata": {
        "id": "b7ba5f57-07e1-4c0f-9b55-9d78638ee2cc"
      },
      "source": [
        "### Информация о данных\n",
        "Чтобы получить общую информацию о данных, воспользуйтесь методом .info()."
      ]
    },
    {
      "cell_type": "code",
      "execution_count": 7,
      "id": "43650b4f-f3e7-4480-b874-b5552f564383",
      "metadata": {
        "colab": {
          "base_uri": "https://localhost:8080/"
        },
        "id": "43650b4f-f3e7-4480-b874-b5552f564383",
        "outputId": "808f2067-2b35-48ff-956c-2501d9ef0da3"
      },
      "outputs": [
        {
          "output_type": "stream",
          "name": "stdout",
          "text": [
            "<class 'pandas.core.frame.DataFrame'>\n",
            "RangeIndex: 891 entries, 0 to 890\n",
            "Data columns (total 12 columns):\n",
            " #   Column       Non-Null Count  Dtype  \n",
            "---  ------       --------------  -----  \n",
            " 0   PassengerId  891 non-null    int64  \n",
            " 1   Survived     891 non-null    int64  \n",
            " 2   Pclass       891 non-null    int64  \n",
            " 3   Name         891 non-null    object \n",
            " 4   Sex          891 non-null    object \n",
            " 5   Age          714 non-null    float64\n",
            " 6   SibSp        891 non-null    int64  \n",
            " 7   Parch        891 non-null    int64  \n",
            " 8   Ticket       891 non-null    object \n",
            " 9   Fare         891 non-null    float64\n",
            " 10  Cabin        204 non-null    object \n",
            " 11  Embarked     889 non-null    object \n",
            "dtypes: float64(2), int64(5), object(5)\n",
            "memory usage: 83.7+ KB\n"
          ]
        }
      ],
      "source": [
        "titanic_df = pd.read_csv('titanic.csv')\n",
        "titanic_df.info()\n"
      ]
    },
    {
      "cell_type": "markdown",
      "id": "a6857118-a82e-4586-a933-4eb0df9cb74e",
      "metadata": {
        "id": "a6857118-a82e-4586-a933-4eb0df9cb74e"
      },
      "source": [
        "### Работа с NaN\n",
        "Часто данные содержат пропущенные значения, которые представляются как NaN (Not a Number). Pandas предоставляет удобные методы для работы с ними.\n",
        "\n",
        "Проверка на наличие NaN. Методы fillna и dropna возвращают новые Dataframe, проверьте нет ли в них NaN"
      ]
    },
    {
      "cell_type": "code",
      "execution_count": 16,
      "id": "f7910fde-24f7-4cf8-991d-01f08bc45b63",
      "metadata": {
        "tags": [],
        "colab": {
          "base_uri": "https://localhost:8080/"
        },
        "id": "f7910fde-24f7-4cf8-991d-01f08bc45b63",
        "outputId": "fcc51a9a-72af-4464-d47a-e82e09d7830b"
      },
      "outputs": [
        {
          "output_type": "stream",
          "name": "stdout",
          "text": [
            "PassengerId    False\n",
            "Survived       False\n",
            "Pclass         False\n",
            "Name           False\n",
            "Sex            False\n",
            "Age             True\n",
            "SibSp          False\n",
            "Parch          False\n",
            "Ticket         False\n",
            "Fare           False\n",
            "Cabin           True\n",
            "Embarked        True\n",
            "dtype: bool\n",
            "\n",
            "Значения NaN для каждого столбца\n",
            " PassengerId      0\n",
            "Survived         0\n",
            "Pclass           0\n",
            "Name             0\n",
            "Sex              0\n",
            "Age            177\n",
            "SibSp            0\n",
            "Parch            0\n",
            "Ticket           0\n",
            "Fare             0\n",
            "Cabin          687\n",
            "Embarked         2\n",
            "dtype: int64\n"
          ]
        }
      ],
      "source": [
        "titanic_df = pd.read_csv('titanic.csv')\n",
        "\n",
        "print(titanic_df.isna().any())\n",
        "print(\"\\nЗначения NaN для каждого столбца\\n\", titanic_df.isna().sum())\n"
      ]
    },
    {
      "cell_type": "markdown",
      "id": "1dadeaf7-e214-4552-b054-8e4a03714f72",
      "metadata": {
        "id": "1dadeaf7-e214-4552-b054-8e4a03714f72"
      },
      "source": [
        "Заполнение NaN"
      ]
    },
    {
      "cell_type": "code",
      "execution_count": 17,
      "id": "7d901187-75a9-497e-8774-6e0dde584197",
      "metadata": {
        "colab": {
          "base_uri": "https://localhost:8080/"
        },
        "id": "7d901187-75a9-497e-8774-6e0dde584197",
        "outputId": "fe03e5c9-86d4-4cd6-822d-649b65545db7"
      },
      "outputs": [
        {
          "output_type": "stream",
          "name": "stdout",
          "text": [
            "PassengerId    False\n",
            "Survived       False\n",
            "Pclass         False\n",
            "Name           False\n",
            "Sex            False\n",
            "Age            False\n",
            "SibSp          False\n",
            "Parch          False\n",
            "Ticket         False\n",
            "Fare           False\n",
            "Cabin          False\n",
            "Embarked       False\n",
            "dtype: bool\n",
            "\n",
            "Значения NaN для каждого столбца (после заполнения):\n",
            " PassengerId    0\n",
            "Survived       0\n",
            "Pclass         0\n",
            "Name           0\n",
            "Sex            0\n",
            "Age            0\n",
            "SibSp          0\n",
            "Parch          0\n",
            "Ticket         0\n",
            "Fare           0\n",
            "Cabin          0\n",
            "Embarked       0\n",
            "dtype: int64\n"
          ]
        }
      ],
      "source": [
        "titanic_df = pd.read_csv('titanic.csv')\n",
        "titanic_df_filled = titanic_df.fillna(0)\n",
        "\n",
        "print(titanic_df_filled.isna().any())\n",
        "print(\"\\nЗначения NaN для каждого столбца (после заполнения):\\n\", titanic_df_filled.isna().sum())"
      ]
    },
    {
      "cell_type": "markdown",
      "id": "6f32fddb-ec60-456b-8958-5c81b0357d49",
      "metadata": {
        "id": "6f32fddb-ec60-456b-8958-5c81b0357d49"
      },
      "source": [
        "Удаление строк с NaN"
      ]
    },
    {
      "cell_type": "code",
      "execution_count": 18,
      "id": "4d188deb-0818-4b01-b3a5-9d20d2166d10",
      "metadata": {
        "tags": [],
        "colab": {
          "base_uri": "https://localhost:8080/"
        },
        "id": "4d188deb-0818-4b01-b3a5-9d20d2166d10",
        "outputId": "af1eaa3d-6b0d-4c86-8529-a749456c9f83"
      },
      "outputs": [
        {
          "output_type": "stream",
          "name": "stdout",
          "text": [
            "Форма исходного фрейма данных: (891, 12)\n",
            "Форма фрейма данных после удаления NaN: (183, 12)\n",
            "\n",
            "Значения NaN для каждого столбца (после удаления):\n",
            " PassengerId    0\n",
            "Survived       0\n",
            "Pclass         0\n",
            "Name           0\n",
            "Sex            0\n",
            "Age            0\n",
            "SibSp          0\n",
            "Parch          0\n",
            "Ticket         0\n",
            "Fare           0\n",
            "Cabin          0\n",
            "Embarked       0\n",
            "dtype: int64\n"
          ]
        }
      ],
      "source": [
        "titanic_df = pd.read_csv('titanic.csv')\n",
        "titanic_df_dropna = titanic_df.dropna()\n",
        "\n",
        "print(\"Форма исходного фрейма данных:\", titanic_df.shape)\n",
        "print(\"Форма фрейма данных после удаления NaN:\", titanic_df_dropna.shape)\n",
        "print(\"\\nЗначения NaN для каждого столбца (после удаления):\\n\", titanic_df_dropna.isna().sum())\n"
      ]
    },
    {
      "cell_type": "markdown",
      "id": "7a4ff131-1593-4cd2-b2bc-e0ddb2442d3b",
      "metadata": {
        "id": "7a4ff131-1593-4cd2-b2bc-e0ddb2442d3b"
      },
      "source": [
        "## Часть 3: Обработка DataFrame\n",
        "### Выбор данных\n",
        "Pandas позволяет выбирать данные по индексам, меткам столбцов и условиям."
      ]
    },
    {
      "cell_type": "code",
      "execution_count": 19,
      "id": "d11f6114-ce4b-4e71-afec-adf1d8c1ec6e",
      "metadata": {
        "tags": [],
        "colab": {
          "base_uri": "https://localhost:8080/"
        },
        "id": "d11f6114-ce4b-4e71-afec-adf1d8c1ec6e",
        "outputId": "11c6c22a-7797-4f06-dd88-ee7afdd51c6b"
      },
      "outputs": [
        {
          "output_type": "stream",
          "name": "stdout",
          "text": [
            "Age column:\n",
            " 0    22.0\n",
            "1    38.0\n",
            "2    26.0\n",
            "3    35.0\n",
            "4    35.0\n",
            "Name: Age, dtype: float64\n",
            "\n",
            "Selected columns:\n",
            "                                                 Name   Age     Sex\n",
            "0                            Braund, Mr. Owen Harris  22.0    male\n",
            "1  Cumings, Mrs. John Bradley (Florence Briggs Th...  38.0  female\n",
            "2                             Heikkinen, Miss. Laina  26.0  female\n",
            "3       Futrelle, Mrs. Jacques Heath (Lily May Peel)  35.0  female\n",
            "4                           Allen, Mr. William Henry  35.0    male\n",
            "\n",
            "Row with index 5:\n",
            " PassengerId                   6\n",
            "Survived                      0\n",
            "Pclass                        3\n",
            "Name           Moran, Mr. James\n",
            "Sex                        male\n",
            "Age                         NaN\n",
            "SibSp                         0\n",
            "Parch                         0\n",
            "Ticket                   330877\n",
            "Fare                     8.4583\n",
            "Cabin                       NaN\n",
            "Embarked                      Q\n",
            "Name: 5, dtype: object\n",
            "\n",
            "Rows from index 2 to 5:\n",
            "    PassengerId  Survived  Pclass  \\\n",
            "2            3         1       3   \n",
            "3            4         1       1   \n",
            "4            5         0       3   \n",
            "5            6         0       3   \n",
            "\n",
            "                                           Name     Sex   Age  SibSp  Parch  \\\n",
            "2                        Heikkinen, Miss. Laina  female  26.0      0      0   \n",
            "3  Futrelle, Mrs. Jacques Heath (Lily May Peel)  female  35.0      1      0   \n",
            "4                      Allen, Mr. William Henry    male  35.0      0      0   \n",
            "5                              Moran, Mr. James    male   NaN      0      0   \n",
            "\n",
            "             Ticket     Fare Cabin Embarked  \n",
            "2  STON/O2. 3101282   7.9250   NaN        S  \n",
            "3            113803  53.1000  C123        S  \n",
            "4            373450   8.0500   NaN        S  \n",
            "5            330877   8.4583   NaN        Q  \n",
            "\n",
            "Men over 30:\n",
            "     PassengerId  Survived  Pclass                         Name   Sex   Age  \\\n",
            "4             5         0       3     Allen, Mr. William Henry  male  35.0   \n",
            "6             7         0       1      McCarthy, Mr. Timothy J  male  54.0   \n",
            "13           14         0       3  Andersson, Mr. Anders Johan  male  39.0   \n",
            "20           21         0       2         Fynney, Mr. Joseph J  male  35.0   \n",
            "21           22         1       2        Beesley, Mr. Lawrence  male  34.0   \n",
            "\n",
            "    SibSp  Parch  Ticket     Fare Cabin Embarked  \n",
            "4       0      0  373450   8.0500   NaN        S  \n",
            "6       0      0   17463  51.8625   E46        S  \n",
            "13      1      5  347082  31.2750   NaN        S  \n",
            "20      0      0  239865  26.0000   NaN        S  \n",
            "21      0      0  248698  13.0000   D56        S  \n"
          ]
        }
      ],
      "source": [
        "titanic_df = pd.read_csv('titanic.csv')\n",
        "\n",
        "age_column = titanic_df['Age']\n",
        "print(\"Age column:\\n\", age_column.head())\n",
        "\n",
        "selected_columns = titanic_df[['Name', 'Age', 'Sex']]\n",
        "print(\"\\nSelected columns:\\n\", selected_columns.head())\n",
        "\n",
        "row_5 = titanic_df.loc[5]\n",
        "print(\"\\nRow with index 5:\\n\", row_5)\n",
        "\n",
        "rows_2_to_5 = titanic_df.loc[2:5]\n",
        "print(\"\\nRows from index 2 to 5:\\n\", rows_2_to_5)\n",
        "\n",
        "men_over_30 = titanic_df[(titanic_df['Sex'] == 'male') & (titanic_df['Age'] > 30)]\n",
        "print(\"\\nMen over 30:\\n\", men_over_30.head())"
      ]
    },
    {
      "cell_type": "markdown",
      "id": "f3102de8-d2fd-4593-bf26-721316ae51e9",
      "metadata": {
        "id": "f3102de8-d2fd-4593-bf26-721316ae51e9"
      },
      "source": [
        "### Сортировка данных\n",
        "Сортировка данных по значениям столбцов."
      ]
    },
    {
      "cell_type": "code",
      "execution_count": 20,
      "id": "de5e850c-e920-4ae4-aadb-3f1953438b09",
      "metadata": {
        "tags": [],
        "colab": {
          "base_uri": "https://localhost:8080/"
        },
        "id": "de5e850c-e920-4ae4-aadb-3f1953438b09",
        "outputId": "81038680-f5e8-40ef-f222-5165822fd5ea"
      },
      "outputs": [
        {
          "output_type": "stream",
          "name": "stdout",
          "text": [
            "Sorted by Age (ascending):\n",
            "      PassengerId  Survived  Pclass                             Name     Sex  \\\n",
            "803          804         1       3  Thomas, Master. Assad Alexander    male   \n",
            "755          756         1       2        Hamalainen, Master. Viljo    male   \n",
            "644          645         1       3           Baclini, Miss. Eugenie  female   \n",
            "469          470         1       3    Baclini, Miss. Helene Barbara  female   \n",
            "78            79         1       2    Caldwell, Master. Alden Gates    male   \n",
            "\n",
            "      Age  SibSp  Parch  Ticket     Fare Cabin Embarked  \n",
            "803  0.42      0      1    2625   8.5167   NaN        C  \n",
            "755  0.67      1      1  250649  14.5000   NaN        S  \n",
            "644  0.75      2      1    2666  19.2583   NaN        C  \n",
            "469  0.75      2      1    2666  19.2583   NaN        C  \n",
            "78   0.83      0      2  248738  29.0000   NaN        S  \n",
            "\n",
            "Sorted by Age (descending):\n",
            "      PassengerId  Survived  Pclass                                  Name  \\\n",
            "630          631         1       1  Barkworth, Mr. Algernon Henry Wilson   \n",
            "851          852         0       3                   Svensson, Mr. Johan   \n",
            "493          494         0       1               Artagaveytia, Mr. Ramon   \n",
            "96            97         0       1             Goldschmidt, Mr. George B   \n",
            "116          117         0       3                  Connors, Mr. Patrick   \n",
            "\n",
            "      Sex   Age  SibSp  Parch    Ticket     Fare Cabin Embarked  \n",
            "630  male  80.0      0      0     27042  30.0000   A23        S  \n",
            "851  male  74.0      0      0    347060   7.7750   NaN        S  \n",
            "493  male  71.0      0      0  PC 17609  49.5042   NaN        C  \n",
            "96   male  71.0      0      0  PC 17754  34.6542    A5        C  \n",
            "116  male  70.5      0      0    370369   7.7500   NaN        Q  \n",
            "\n",
            "Sorted by Sex and Age:\n",
            "      PassengerId  Survived  Pclass                               Name     Sex  \\\n",
            "469          470         1       3      Baclini, Miss. Helene Barbara  female   \n",
            "644          645         1       3             Baclini, Miss. Eugenie  female   \n",
            "172          173         1       3       Johnson, Miss. Eleanor Ileen  female   \n",
            "381          382         1       3        Nakid, Miss. Maria (\"Mary\")  female   \n",
            "119          120         0       3  Andersson, Miss. Ellis Anna Maria  female   \n",
            "\n",
            "      Age  SibSp  Parch  Ticket     Fare Cabin Embarked  \n",
            "469  0.75      2      1    2666  19.2583   NaN        C  \n",
            "644  0.75      2      1    2666  19.2583   NaN        C  \n",
            "172  1.00      1      1  347742  11.1333   NaN        S  \n",
            "381  1.00      0      2    2653  15.7417   NaN        C  \n",
            "119  2.00      4      2  347082  31.2750   NaN        S  \n"
          ]
        }
      ],
      "source": [
        "titanic_df = pd.read_csv('titanic.csv')\n",
        "\n",
        "\n",
        "titanic_df_sorted_age = titanic_df.sort_values(by='Age')\n",
        "print(\"Sorted by Age (ascending):\\n\", titanic_df_sorted_age.head())\n",
        "\n",
        "titanic_df_sorted_age_desc = titanic_df.sort_values(by='Age', ascending=False)\n",
        "print(\"\\nSorted by Age (descending):\\n\", titanic_df_sorted_age_desc.head())\n",
        "\n",
        "titanic_df_sorted_multiple = titanic_df.sort_values(by=['Sex', 'Age'])\n",
        "print(\"\\nSorted by Sex and Age:\\n\", titanic_df_sorted_multiple.head())\n"
      ]
    },
    {
      "cell_type": "markdown",
      "id": "eab3cd85-5e96-4228-8834-9ef53b93689a",
      "metadata": {
        "id": "eab3cd85-5e96-4228-8834-9ef53b93689a"
      },
      "source": [
        "### Группировка данных\n",
        "Pandas также позволяет группировать данные и выполнять агрегирующие операции."
      ]
    },
    {
      "cell_type": "code",
      "execution_count": 21,
      "id": "25ced901-0482-49a8-8c12-d192e84e3fb3",
      "metadata": {
        "tags": [],
        "colab": {
          "base_uri": "https://localhost:8080/"
        },
        "id": "25ced901-0482-49a8-8c12-d192e84e3fb3",
        "outputId": "a5bc9130-08d2-4889-b075-dc4f280ec4dd"
      },
      "outputs": [
        {
          "output_type": "stream",
          "name": "stdout",
          "text": [
            "Survival rate by Pclass:\n",
            " Pclass\n",
            "1    0.629630\n",
            "2    0.472826\n",
            "3    0.242363\n",
            "Name: Survived, dtype: float64\n"
          ]
        }
      ],
      "source": [
        "titanic_df = pd.read_csv('titanic.csv')\n",
        "\n",
        "survival_rate_by_pclass = titanic_df.groupby('Pclass')['Survived'].mean()\n",
        "print(\"Survival rate by Pclass:\\n\", survival_rate_by_pclass)\n"
      ]
    },
    {
      "cell_type": "markdown",
      "id": "d0355db7-7bf9-46d1-ad51-5f2eddc42501",
      "metadata": {
        "id": "d0355db7-7bf9-46d1-ad51-5f2eddc42501"
      },
      "source": [
        "## Часть 4: Задания для практики\n",
        "Прочитайте данные из файла 'titanic.csv'.\n",
        "Проверьте, есть ли пропущенные значения в данных и заполните их нулями.\n",
        "Выведите первые 10 строк данных.\n",
        "Выберите только те строки, где значение в столбце 'Age' больше 30.\n",
        "Отсортируйте данные по столбцу 'Fare' в порядке убывания.\n",
        "Сгруппируйте данные по столбцу 'Pclass' и вычислите средний возраст ('Age') для каждого класса."
      ]
    },
    {
      "cell_type": "code",
      "execution_count": 22,
      "id": "a1b4deaa-cd06-41b3-8084-5c2d3a867811",
      "metadata": {
        "colab": {
          "base_uri": "https://localhost:8080/"
        },
        "id": "a1b4deaa-cd06-41b3-8084-5c2d3a867811",
        "outputId": "1852307c-3885-4ed1-e929-41ad2da78efd"
      },
      "outputs": [
        {
          "output_type": "stream",
          "name": "stdout",
          "text": [
            "NaN values before filling:\n",
            " PassengerId      0\n",
            "Survived         0\n",
            "Pclass           0\n",
            "Name             0\n",
            "Sex              0\n",
            "Age            177\n",
            "SibSp            0\n",
            "Parch            0\n",
            "Ticket           0\n",
            "Fare             0\n",
            "Cabin          687\n",
            "Embarked         2\n",
            "dtype: int64\n",
            "\n",
            "NaN values after filling:\n",
            " PassengerId    0\n",
            "Survived       0\n",
            "Pclass         0\n",
            "Name           0\n",
            "Sex            0\n",
            "Age            0\n",
            "SibSp          0\n",
            "Parch          0\n",
            "Ticket         0\n",
            "Fare           0\n",
            "Cabin          0\n",
            "Embarked       0\n",
            "dtype: int64\n",
            "\n",
            "First 10 rows:\n",
            "    PassengerId  Survived  Pclass  \\\n",
            "0            1         0       3   \n",
            "1            2         1       1   \n",
            "2            3         1       3   \n",
            "3            4         1       1   \n",
            "4            5         0       3   \n",
            "5            6         0       3   \n",
            "6            7         0       1   \n",
            "7            8         0       3   \n",
            "8            9         1       3   \n",
            "9           10         1       2   \n",
            "\n",
            "                                                Name     Sex   Age  SibSp  \\\n",
            "0                            Braund, Mr. Owen Harris    male  22.0      1   \n",
            "1  Cumings, Mrs. John Bradley (Florence Briggs Th...  female  38.0      1   \n",
            "2                             Heikkinen, Miss. Laina  female  26.0      0   \n",
            "3       Futrelle, Mrs. Jacques Heath (Lily May Peel)  female  35.0      1   \n",
            "4                           Allen, Mr. William Henry    male  35.0      0   \n",
            "5                                   Moran, Mr. James    male   0.0      0   \n",
            "6                            McCarthy, Mr. Timothy J    male  54.0      0   \n",
            "7                     Palsson, Master. Gosta Leonard    male   2.0      3   \n",
            "8  Johnson, Mrs. Oscar W (Elisabeth Vilhelmina Berg)  female  27.0      0   \n",
            "9                Nasser, Mrs. Nicholas (Adele Achem)  female  14.0      1   \n",
            "\n",
            "   Parch            Ticket     Fare Cabin Embarked  \n",
            "0      0         A/5 21171   7.2500     0        S  \n",
            "1      0          PC 17599  71.2833   C85        C  \n",
            "2      0  STON/O2. 3101282   7.9250     0        S  \n",
            "3      0            113803  53.1000  C123        S  \n",
            "4      0            373450   8.0500     0        S  \n",
            "5      0            330877   8.4583     0        Q  \n",
            "6      0             17463  51.8625   E46        S  \n",
            "7      1            349909  21.0750     0        S  \n",
            "8      2            347742  11.1333     0        S  \n",
            "9      0            237736  30.0708     0        C  \n",
            "\n",
            "Passengers with age over 30:\n",
            "     PassengerId  Survived  Pclass  \\\n",
            "1             2         1       1   \n",
            "3             4         1       1   \n",
            "4             5         0       3   \n",
            "6             7         0       1   \n",
            "11           12         1       1   \n",
            "\n",
            "                                                 Name     Sex   Age  SibSp  \\\n",
            "1   Cumings, Mrs. John Bradley (Florence Briggs Th...  female  38.0      1   \n",
            "3        Futrelle, Mrs. Jacques Heath (Lily May Peel)  female  35.0      1   \n",
            "4                            Allen, Mr. William Henry    male  35.0      0   \n",
            "6                             McCarthy, Mr. Timothy J    male  54.0      0   \n",
            "11                           Bonnell, Miss. Elizabeth  female  58.0      0   \n",
            "\n",
            "    Parch    Ticket     Fare Cabin Embarked  \n",
            "1       0  PC 17599  71.2833   C85        C  \n",
            "3       0    113803  53.1000  C123        S  \n",
            "4       0    373450   8.0500     0        S  \n",
            "6       0     17463  51.8625   E46        S  \n",
            "11      0    113783  26.5500  C103        S  \n",
            "\n",
            "Sorted by Fare (descending):\n",
            "      PassengerId  Survived  Pclass                                Name  \\\n",
            "679          680         1       1  Cardeza, Mr. Thomas Drake Martinez   \n",
            "258          259         1       1                    Ward, Miss. Anna   \n",
            "737          738         1       1              Lesurer, Mr. Gustave J   \n",
            "88            89         1       1          Fortune, Miss. Mabel Helen   \n",
            "438          439         0       1                   Fortune, Mr. Mark   \n",
            "\n",
            "        Sex   Age  SibSp  Parch    Ticket      Fare        Cabin Embarked  \n",
            "679    male  36.0      0      1  PC 17755  512.3292  B51 B53 B55        C  \n",
            "258  female  35.0      0      0  PC 17755  512.3292            0        C  \n",
            "737    male  35.0      0      0  PC 17755  512.3292         B101        C  \n",
            "88   female  23.0      3      2     19950  263.0000  C23 C25 C27        S  \n",
            "438    male  64.0      1      4     19950  263.0000  C23 C25 C27        S  \n",
            "\n",
            "Average age by Pclass:\n",
            " Pclass\n",
            "1    32.923241\n",
            "2    28.091467\n",
            "3    18.177026\n",
            "Name: Age, dtype: float64\n"
          ]
        }
      ],
      "source": [
        "titanic_df = pd.read_csv('titanic.csv')\n",
        "\n",
        "print(\"NaN values before filling:\\n\", titanic_df.isna().sum())\n",
        "titanic_df.fillna(0, inplace=True)\n",
        "print(\"\\nNaN values after filling:\\n\", titanic_df.isna().sum())\n",
        "\n",
        "print(\"\\nFirst 10 rows:\\n\", titanic_df.head(10))\n",
        "\n",
        "age_over_30 = titanic_df[titanic_df['Age'] > 30]\n",
        "print(\"\\nPassengers with age over 30:\\n\", age_over_30.head())\n",
        "\n",
        "titanic_df_sorted_fare = titanic_df.sort_values(by='Fare', ascending=False)\n",
        "print(\"\\nSorted by Fare (descending):\\n\", titanic_df_sorted_fare.head())\n",
        "\n",
        "average_age_by_pclass = titanic_df.groupby('Pclass')['Age'].mean()\n",
        "print(\"\\nAverage age by Pclass:\\n\", average_age_by_pclass)\n"
      ]
    }
  ],
  "metadata": {
    "kernelspec": {
      "display_name": "Python 3 (ipykernel)",
      "language": "python",
      "name": "python3"
    },
    "language_info": {
      "codemirror_mode": {
        "name": "ipython",
        "version": 3
      },
      "file_extension": ".py",
      "mimetype": "text/x-python",
      "name": "python",
      "nbconvert_exporter": "python",
      "pygments_lexer": "ipython3",
      "version": "3.11.5"
    },
    "colab": {
      "provenance": []
    }
  },
  "nbformat": 4,
  "nbformat_minor": 5
}